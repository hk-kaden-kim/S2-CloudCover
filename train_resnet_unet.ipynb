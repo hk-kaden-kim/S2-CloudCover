{
 "cells": [
  {
   "cell_type": "code",
   "execution_count": 1,
   "id": "dca2c445",
   "metadata": {
    "id": "dca2c445"
   },
   "outputs": [],
   "source": [
    "%load_ext autoreload\n",
    "%autoreload 2"
   ]
  },
  {
   "cell_type": "code",
   "execution_count": 2,
   "id": "epjPMMeUN_rE",
   "metadata": {
    "id": "epjPMMeUN_rE"
   },
   "outputs": [
    {
     "name": "stderr",
     "output_type": "stream",
     "text": [
      "Seed set to 0\n"
     ]
    },
    {
     "data": {
      "text/plain": [
       "0"
      ]
     },
     "execution_count": 2,
     "metadata": {},
     "output_type": "execute_result"
    }
   ],
   "source": [
    "import warnings\n",
    "warnings.filterwarnings(\"ignore\", category=UserWarning)\n",
    "\n",
    "import lightning.pytorch as pl\n",
    "pl.seed_everything(0)"
   ]
  },
  {
   "cell_type": "markdown",
   "id": "XPNaTx4JMiRm",
   "metadata": {
    "id": "XPNaTx4JMiRm",
    "jp-MarkdownHeadingCollapsed": true
   },
   "source": [
    "# Set up\n",
    "*   Install libraries\n",
    "*   Load dataset"
   ]
  },
  {
   "cell_type": "code",
   "execution_count": null,
   "id": "N3PaJgvfrSgx",
   "metadata": {
    "id": "N3PaJgvfrSgx"
   },
   "outputs": [],
   "source": [
    "# ! rm -rf dataset\n",
    "# ! rm -rf library"
   ]
  },
  {
   "cell_type": "code",
   "execution_count": null,
   "id": "0804fbfd-e0db-48b0-98d4-8c499cc7c462",
   "metadata": {},
   "outputs": [],
   "source": [
    "! pip show terratorch"
   ]
  },
  {
   "cell_type": "markdown",
   "id": "b5cdf1b6-742e-4ea1-a261-41b25f20774f",
   "metadata": {
    "jp-MarkdownHeadingCollapsed": true
   },
   "source": [
    "## Setting for Google Colab Notebook\n",
    "\n",
    "If you run on Google Colab Notebook, install python library first by using command below.\n"
   ]
  },
  {
   "cell_type": "code",
   "execution_count": null,
   "id": "aXJevMCtE75o",
   "metadata": {
    "id": "aXJevMCtE75o"
   },
   "outputs": [],
   "source": [
    "# ! pip install xarray-spatial git+https://github.com/IBM/terratorch.git@fix/506"
   ]
  },
  {
   "cell_type": "code",
   "execution_count": null,
   "id": "9e70f74f-9b65-4249-b64e-c50af82acef6",
   "metadata": {},
   "outputs": [],
   "source": [
    "import terratorch\n",
    "# pip install granitewxc"
   ]
  },
  {
   "cell_type": "code",
   "execution_count": null,
   "id": "YHOPJJY6jaJO",
   "metadata": {
    "id": "YHOPJJY6jaJO"
   },
   "outputs": [],
   "source": [
    "# ! mkdir -p library\n",
    "# ! wget https://github.com/hk-kaden-kim/S2-CloudCover/raw/refs/heads/main/library/__init__.py -P library\n",
    "# ! wget https://github.com/hk-kaden-kim/S2-CloudCover/raw/refs/heads/main/library/analysis.py -P library"
   ]
  },
  {
   "cell_type": "code",
   "execution_count": null,
   "id": "TlZOwaU9kIJU",
   "metadata": {
    "id": "TlZOwaU9kIJU"
   },
   "outputs": [],
   "source": [
    "# ! mkdir -p library/datasets\n",
    "# ! wget https://github.com/hk-kaden-kim/S2-CloudCover/raw/refs/heads/main/library/datasets/__init__.py -P library/datasets\n",
    "# ! wget https://github.com/hk-kaden-kim/S2-CloudCover/raw/refs/heads/main/library/datasets/sen2cloud.py -P library/datasets"
   ]
  },
  {
   "cell_type": "code",
   "execution_count": null,
   "id": "G57fKIEgjgpx",
   "metadata": {
    "id": "G57fKIEgjgpx"
   },
   "outputs": [],
   "source": [
    "# ! mkdir -p library/datamodules\n",
    "# ! wget https://github.com/hk-kaden-kim/S2-CloudCover/raw/refs/heads/main/library/datamodules/__init__.py -P library/datamodules\n",
    "# ! wget https://github.com/hk-kaden-kim/S2-CloudCover/raw/refs/heads/main/library/datamodules/sen2cloud.py -P library/datamodules"
   ]
  },
  {
   "cell_type": "code",
   "execution_count": null,
   "id": "a7f4e717-ce2e-4d95-8de3-1912e997c579",
   "metadata": {},
   "outputs": [],
   "source": [
    "# ! mkdir -p library/decoders\n",
    "# ! wget https://github.com/hk-kaden-kim/S2-CloudCover/raw/refs/heads/main/library/decoders/__init__.py -P library/decoders\n",
    "# ! wget https://github.com/hk-kaden-kim/S2-CloudCover/raw/refs/heads/main/library/decoders/unetplusplus.py -P library/decoders"
   ]
  },
  {
   "cell_type": "markdown",
   "id": "e6065345-d0d4-42d9-96d8-2cfd049cfd9b",
   "metadata": {
    "jp-MarkdownHeadingCollapsed": true
   },
   "source": [
    "## Load Dataset"
   ]
  },
  {
   "cell_type": "code",
   "execution_count": null,
   "id": "nzA8r3BjjcoX",
   "metadata": {
    "id": "nzA8r3BjjcoX"
   },
   "outputs": [],
   "source": [
    "# ! mkdir -p dataset"
   ]
  },
  {
   "cell_type": "code",
   "execution_count": null,
   "id": "pbQhbb-HSoAu",
   "metadata": {
    "id": "pbQhbb-HSoAu"
   },
   "outputs": [],
   "source": [
    "# ! wget https://huggingface.co/datasets/hk-kaden-kim/Small_S2_CloudCover_Seg/resolve/main/train.zip -P dataset\n",
    "# ! unzip -q dataset/train.zip -d dataset\n",
    "# ! mv dataset/train dataset/public\n",
    "# ! rm dataset/train.zip"
   ]
  },
  {
   "cell_type": "code",
   "execution_count": null,
   "id": "1SBgdN6mTFnR",
   "metadata": {
    "id": "1SBgdN6mTFnR"
   },
   "outputs": [],
   "source": [
    "# ! wget https://huggingface.co/datasets/hk-kaden-kim/Small_S2_CloudCover_Seg/resolve/main/test.zip -P dataset\n",
    "# ! unzip -q dataset/test.zip -d dataset\n",
    "# ! mv dataset/test dataset/private\n",
    "# ! rm dataset/test.zip"
   ]
  },
  {
   "cell_type": "code",
   "execution_count": null,
   "id": "FL-XzotzkD3U",
   "metadata": {
    "id": "FL-XzotzkD3U"
   },
   "outputs": [],
   "source": [
    "# ! rm -rf dataset/__MACOSX"
   ]
  },
  {
   "cell_type": "markdown",
   "id": "c95ef947be616ef8",
   "metadata": {
    "id": "c95ef947be616ef8"
   },
   "source": [
    "# Lightning Trainers"
   ]
  },
  {
   "cell_type": "code",
   "execution_count": 9,
   "id": "9kIGRy3jrY1R",
   "metadata": {
    "id": "9kIGRy3jrY1R"
   },
   "outputs": [
    {
     "data": {
      "text/plain": [
       "(414, 171, 547)"
      ]
     },
     "execution_count": 9,
     "metadata": {},
     "output_type": "execute_result"
    }
   ],
   "source": [
    "from library.datamodules.sen2cloud import Sen2CloudDataModule\n",
    "\n",
    "BATCH_SIZE = 8 # 32\n",
    "\n",
    "datamodule = Sen2CloudDataModule(\n",
    "    data_root = './dataset',\n",
    "    batch_size = BATCH_SIZE,\n",
    "    means = [2672.63818359375, 2678.138671875, 2587.265380859375, 3507.404052734375],\n",
    "    stds = [3047.300537109375, 2805.623779296875, 2705.935791015625, 2409.601318359375],\n",
    ")\n",
    "\n",
    "datamodule.setup(\"fit\")\n",
    "datamodule.setup(\"test\")\n",
    "\n",
    "train_dataset = datamodule.train_dataset\n",
    "val_dataset = datamodule.val_dataset\n",
    "\n",
    "test_dataset = datamodule.test_dataset\n",
    "len(train_dataset), len(val_dataset), len(test_dataset)"
   ]
  },
  {
   "cell_type": "code",
   "execution_count": 1,
   "id": "5d64dedcf582c53f",
   "metadata": {
    "ExecuteTime": {
     "end_time": "2024-09-20T09:30:58.985260Z",
     "start_time": "2024-09-20T09:30:58.475305Z"
    },
    "id": "5d64dedcf582c53f"
   },
   "outputs": [
    {
     "name": "stderr",
     "output_type": "stream",
     "text": [
      "/Users/hyeongkyunkim/miniconda3/envs/s2-cloudcover/lib/python3.12/site-packages/tqdm/auto.py:21: TqdmWarning: IProgress not found. Please update jupyter and ipywidgets. See https://ipywidgets.readthedocs.io/en/stable/user_install.html\n",
      "  from .autonotebook import tqdm as notebook_tqdm\n",
      "INFO:timm.models._builder:Loading pretrained weights from Hugging Face hub (timm/resnet50.a1_in1k)\n",
      "INFO:timm.models._hub:[timm/resnet50.a1_in1k] Safe alternative available for 'pytorch_model.bin' (as 'model.safetensors'). Loading weights using safetensors.\n",
      "INFO:timm.models._builder:Converted input conv conv1 pretrained weights from 3 to 4 channel(s)\n",
      "INFO:timm.models._builder:Missing keys (fc.weight, fc.bias) discovered while loading pretrained weights. This is expected if model is being adapted.\n"
     ]
    }
   ],
   "source": [
    "from terratorch.tasks import SemanticSegmentationTask\n",
    "\n",
    "LOSS = 'ce'\n",
    "LEARNING_RATE = 1e-3\n",
    "OPTIMIZER = 'AdamW'\n",
    "OPTIMIZER_HPARAMS = {\"weight_decay\": 0.05}\n",
    "FREEZE = {'Encoder': False, 'Decoder': False}\n",
    "PRETRAINED = True\n",
    "\n",
    "model_args={\n",
    "    # Backbone (Encoder)\n",
    "    \"backbone\": \"resnet50\",     # timm : resnet34, resnet50\n",
    "    \"backbone_kwargs\": {\n",
    "        'pretrained': PRETRAINED,\n",
    "        'in_chans': 4,\n",
    "    },\n",
    "\n",
    "    # Decoder\n",
    "    \"decoder\": \"UNetDecoder\",      # terratorch : UNetDecoder\n",
    "    \"decoder_kwargs\": {\n",
    "        'channels': [512, 256, 128, 64],\n",
    "    },\n",
    "\n",
    "    # Head\n",
    "    \"head_dropout\": 0.1,\n",
    "    \"num_classes\": 2,\n",
    "}\n",
    "\n",
    "# Model\n",
    "task = SemanticSegmentationTask(\n",
    "    model_args=model_args,\n",
    "    model_factory=\"EncoderDecoderFactory\",\n",
    "    loss=LOSS,\n",
    "    lr=LEARNING_RATE,\n",
    "    optimizer=OPTIMIZER,\n",
    "    optimizer_hparams=OPTIMIZER_HPARAMS,\n",
    "    freeze_backbone=FREEZE['Encoder'], # True. Only to speed up fine-tuning\n",
    "    freeze_decoder=FREEZE['Decoder'],\n",
    "    class_names=['No', 'Cloud'],  # optionally define class names\n",
    "    plot_on_val=0,\n",
    ")"
   ]
  },
  {
   "cell_type": "code",
   "execution_count": 11,
   "id": "706bc5b0f5da7c5e",
   "metadata": {
    "ExecuteTime": {
     "end_time": "2024-09-20T09:32:03.414907Z",
     "start_time": "2024-09-20T09:31:03.644418Z"
    },
    "id": "706bc5b0f5da7c5e"
   },
   "outputs": [
    {
     "name": "stderr",
     "output_type": "stream",
     "text": [
      "Using 16bit Automatic Mixed Precision (AMP)\n",
      "GPU available: True (cuda), used: True\n",
      "TPU available: False, using: 0 TPU cores\n",
      "HPU available: False, using: 0 HPUs\n"
     ]
    }
   ],
   "source": [
    "from lightning.pytorch import Trainer\n",
    "from lightning.pytorch.callbacks import EarlyStopping, LearningRateMonitor, ModelCheckpoint, RichProgressBar\n",
    "from lightning.pytorch.loggers import TensorBoardLogger\n",
    "\n",
    "EPOCH = 50\n",
    "\n",
    "checkpoint_callback = ModelCheckpoint(mode=\"max\",\n",
    "                                      monitor=\"val/Multiclass_Jaccard_Index\",\n",
    "                                      filename=\"best-{epoch:02d}\",\n",
    "                                      save_last=True)\n",
    "# early_stopping_callback = EarlyStopping(mode=\"min\",\n",
    "#                                         monitor=f\"val/loss\",\n",
    "#                                         patience=10)\n",
    "logger = TensorBoardLogger(save_dir='output',\n",
    "                           version=f\"FT_Enc{FREEZE['Encoder']}_Dec{FREEZE['Decoder']}_E{EPOCH}_B{BATCH_SIZE}_{LOSS}_LR{LEARNING_RATE}\",\n",
    "                           name=f\"{model_args['backbone']}_{model_args['decoder']}\")\n",
    "\n",
    "trainer = Trainer(\n",
    "    devices=1, # Number of GPUs. Interactive mode recommended with 1 device\n",
    "    precision=\"16-mixed\",\n",
    "    callbacks=[\n",
    "      RichProgressBar(),\n",
    "      checkpoint_callback, # Set to save max val/IoU and last model\n",
    "      # early_stopping_callback,\n",
    "      LearningRateMonitor(logging_interval=\"epoch\"),\n",
    "      ],\n",
    "    logger=logger,\n",
    "    max_epochs=EPOCH,\n",
    "    default_root_dir='output',\n",
    "    log_every_n_steps=1,\n",
    "    check_val_every_n_epoch=1,\n",
    ")"
   ]
  },
  {
   "cell_type": "code",
   "execution_count": 12,
   "id": "6aa5a8e1-8796-4d28-979d-c6fb9c63b065",
   "metadata": {
    "id": "6aa5a8e1-8796-4d28-979d-c6fb9c63b065"
   },
   "outputs": [
    {
     "name": "stdout",
     "output_type": "stream",
     "text": [
      "Free Memory: 14770.5 MB\n",
      "Total Memory: 22502.8125 MB\n",
      "Memory Allocated: 0.00146484375 MB\n",
      "Memory Reserved: 4.0 MB\n",
      "Max Memory Allocated: 2356.61572265625 MB\n",
      "Max Memory Reserved: 2580.0 MB\n"
     ]
    }
   ],
   "source": [
    "import torch\n",
    "\n",
    "torch.cuda.empty_cache()\n",
    "\n",
    "free_mem, total_mem = torch.cuda.mem_get_info()\n",
    "print(f\"Free Memory: {free_mem/1024**2} MB\")\n",
    "print(f\"Total Memory: {total_mem/1024**2} MB\")\n",
    "print(f\"Memory Allocated: {torch.cuda.memory_allocated(0)/1024**2} MB\")\n",
    "print(f\"Memory Reserved: {torch.cuda.memory_reserved(0)/1024**2} MB\")\n",
    "print(f\"Max Memory Allocated: {torch.cuda.max_memory_allocated(0)/1024**2} MB\")\n",
    "print(f\"Max Memory Reserved: {torch.cuda.max_memory_reserved(0)/1024**2} MB\")"
   ]
  },
  {
   "cell_type": "code",
   "execution_count": 13,
   "id": "Q78BdyVOmaZo",
   "metadata": {
    "id": "Q78BdyVOmaZo",
    "scrolled": true
   },
   "outputs": [
    {
     "name": "stderr",
     "output_type": "stream",
     "text": [
      "LOCAL_RANK: 0 - CUDA_VISIBLE_DEVICES: [0]\n"
     ]
    },
    {
     "data": {
      "text/html": [
       "<pre style=\"white-space:pre;overflow-x:auto;line-height:normal;font-family:Menlo,'DejaVu Sans Mono',consolas,'Courier New',monospace\">┏━━━┳━━━━━━━━━━━━━━━┳━━━━━━━━━━━━━━━━━━┳━━━━━━━━┳━━━━━━━┓\n",
       "┃<span style=\"color: #800080; text-decoration-color: #800080; font-weight: bold\">   </span>┃<span style=\"color: #800080; text-decoration-color: #800080; font-weight: bold\"> Name          </span>┃<span style=\"color: #800080; text-decoration-color: #800080; font-weight: bold\"> Type             </span>┃<span style=\"color: #800080; text-decoration-color: #800080; font-weight: bold\"> Params </span>┃<span style=\"color: #800080; text-decoration-color: #800080; font-weight: bold\"> Mode  </span>┃\n",
       "┡━━━╇━━━━━━━━━━━━━━━╇━━━━━━━━━━━━━━━━━━╇━━━━━━━━╇━━━━━━━┩\n",
       "│<span style=\"color: #7f7f7f; text-decoration-color: #7f7f7f\"> 0 </span>│ model         │ PixelWiseModel   │ 60.3 M │ train │\n",
       "│<span style=\"color: #7f7f7f; text-decoration-color: #7f7f7f\"> 1 </span>│ criterion     │ CrossEntropyLoss │      0 │ train │\n",
       "│<span style=\"color: #7f7f7f; text-decoration-color: #7f7f7f\"> 2 </span>│ train_metrics │ MetricCollection │      0 │ train │\n",
       "│<span style=\"color: #7f7f7f; text-decoration-color: #7f7f7f\"> 3 </span>│ val_metrics   │ MetricCollection │      0 │ train │\n",
       "│<span style=\"color: #7f7f7f; text-decoration-color: #7f7f7f\"> 4 </span>│ test_metrics  │ ModuleList       │      0 │ train │\n",
       "└───┴───────────────┴──────────────────┴────────┴───────┘\n",
       "</pre>\n"
      ],
      "text/plain": [
       "┏━━━┳━━━━━━━━━━━━━━━┳━━━━━━━━━━━━━━━━━━┳━━━━━━━━┳━━━━━━━┓\n",
       "┃\u001b[1;35m \u001b[0m\u001b[1;35m \u001b[0m\u001b[1;35m \u001b[0m┃\u001b[1;35m \u001b[0m\u001b[1;35mName         \u001b[0m\u001b[1;35m \u001b[0m┃\u001b[1;35m \u001b[0m\u001b[1;35mType            \u001b[0m\u001b[1;35m \u001b[0m┃\u001b[1;35m \u001b[0m\u001b[1;35mParams\u001b[0m\u001b[1;35m \u001b[0m┃\u001b[1;35m \u001b[0m\u001b[1;35mMode \u001b[0m\u001b[1;35m \u001b[0m┃\n",
       "┡━━━╇━━━━━━━━━━━━━━━╇━━━━━━━━━━━━━━━━━━╇━━━━━━━━╇━━━━━━━┩\n",
       "│\u001b[2m \u001b[0m\u001b[2m0\u001b[0m\u001b[2m \u001b[0m│ model         │ PixelWiseModel   │ 60.3 M │ train │\n",
       "│\u001b[2m \u001b[0m\u001b[2m1\u001b[0m\u001b[2m \u001b[0m│ criterion     │ CrossEntropyLoss │      0 │ train │\n",
       "│\u001b[2m \u001b[0m\u001b[2m2\u001b[0m\u001b[2m \u001b[0m│ train_metrics │ MetricCollection │      0 │ train │\n",
       "│\u001b[2m \u001b[0m\u001b[2m3\u001b[0m\u001b[2m \u001b[0m│ val_metrics   │ MetricCollection │      0 │ train │\n",
       "│\u001b[2m \u001b[0m\u001b[2m4\u001b[0m\u001b[2m \u001b[0m│ test_metrics  │ ModuleList       │      0 │ train │\n",
       "└───┴───────────────┴──────────────────┴────────┴───────┘\n"
      ]
     },
     "metadata": {},
     "output_type": "display_data"
    },
    {
     "data": {
      "text/html": [
       "<pre style=\"white-space:pre;overflow-x:auto;line-height:normal;font-family:Menlo,'DejaVu Sans Mono',consolas,'Courier New',monospace\"><span style=\"font-weight: bold\">Trainable params</span>: 60.3 M                                                                                           \n",
       "<span style=\"font-weight: bold\">Non-trainable params</span>: 0                                                                                            \n",
       "<span style=\"font-weight: bold\">Total params</span>: 60.3 M                                                                                               \n",
       "<span style=\"font-weight: bold\">Total estimated model params size (MB)</span>: 241                                                                        \n",
       "<span style=\"font-weight: bold\">Modules in train mode</span>: 344                                                                                         \n",
       "<span style=\"font-weight: bold\">Modules in eval mode</span>: 0                                                                                            \n",
       "</pre>\n"
      ],
      "text/plain": [
       "\u001b[1mTrainable params\u001b[0m: 60.3 M                                                                                           \n",
       "\u001b[1mNon-trainable params\u001b[0m: 0                                                                                            \n",
       "\u001b[1mTotal params\u001b[0m: 60.3 M                                                                                               \n",
       "\u001b[1mTotal estimated model params size (MB)\u001b[0m: 241                                                                        \n",
       "\u001b[1mModules in train mode\u001b[0m: 344                                                                                         \n",
       "\u001b[1mModules in eval mode\u001b[0m: 0                                                                                            \n"
      ]
     },
     "metadata": {},
     "output_type": "display_data"
    },
    {
     "data": {
      "application/vnd.jupyter.widget-view+json": {
       "model_id": "f6234e3b86314598a15f4c8ca4f86024",
       "version_major": 2,
       "version_minor": 0
      },
      "text/plain": [
       "Output()"
      ]
     },
     "metadata": {},
     "output_type": "display_data"
    },
    {
     "name": "stderr",
     "output_type": "stream",
     "text": [
      "`Trainer.fit` stopped: `max_epochs=30` reached.\n"
     ]
    },
    {
     "data": {
      "text/html": [
       "<pre style=\"white-space:pre;overflow-x:auto;line-height:normal;font-family:Menlo,'DejaVu Sans Mono',consolas,'Courier New',monospace\"></pre>\n"
      ],
      "text/plain": []
     },
     "metadata": {},
     "output_type": "display_data"
    }
   ],
   "source": [
    "_ = trainer.fit(model=task, datamodule=datamodule)"
   ]
  },
  {
   "cell_type": "code",
   "execution_count": 14,
   "id": "2d92341bdd5653bc",
   "metadata": {
    "ExecuteTime": {
     "end_time": "2024-09-20T08:56:02.167413Z",
     "start_time": "2024-09-20T08:55:49.306963Z"
    },
    "id": "2d92341bdd5653bc"
   },
   "outputs": [
    {
     "name": "stderr",
     "output_type": "stream",
     "text": [
      "LOCAL_RANK: 0 - CUDA_VISIBLE_DEVICES: [0]\n"
     ]
    },
    {
     "data": {
      "application/vnd.jupyter.widget-view+json": {
       "model_id": "2c443b916a20412a8f89a122874adea0",
       "version_major": 2,
       "version_minor": 0
      },
      "text/plain": [
       "Output()"
      ]
     },
     "metadata": {},
     "output_type": "display_data"
    },
    {
     "data": {
      "text/html": [
       "<pre style=\"white-space:pre;overflow-x:auto;line-height:normal;font-family:Menlo,'DejaVu Sans Mono',consolas,'Courier New',monospace\">┏━━━━━━━━━━━━━━━━━━━━━━━━━━━━━━━━━━━━━┳━━━━━━━━━━━━━━━━━━━━━━━━━━━━━━━━━━━━━┓\n",
       "┃<span style=\"font-weight: bold\">             Test metric             </span>┃<span style=\"font-weight: bold\">            DataLoader 0             </span>┃\n",
       "┡━━━━━━━━━━━━━━━━━━━━━━━━━━━━━━━━━━━━━╇━━━━━━━━━━━━━━━━━━━━━━━━━━━━━━━━━━━━━┩\n",
       "│<span style=\"color: #008080; text-decoration-color: #008080\">      test/Multiclass_Accuracy       </span>│<span style=\"color: #800080; text-decoration-color: #800080\">         0.9086419343948364          </span>│\n",
       "│<span style=\"color: #008080; text-decoration-color: #008080\">      test/Multiclass_F1_Score       </span>│<span style=\"color: #800080; text-decoration-color: #800080\">         0.9086419343948364          </span>│\n",
       "│<span style=\"color: #008080; text-decoration-color: #008080\">    test/Multiclass_Jaccard_Index    </span>│<span style=\"color: #800080; text-decoration-color: #800080\">         0.8266810178756714          </span>│\n",
       "│<span style=\"color: #008080; text-decoration-color: #008080\"> test/Multiclass_Jaccard_Index_Micro </span>│<span style=\"color: #800080; text-decoration-color: #800080\">         0.8325790762901306          </span>│\n",
       "│<span style=\"color: #008080; text-decoration-color: #008080\">              test/loss              </span>│<span style=\"color: #800080; text-decoration-color: #800080\">         0.30641746520996094         </span>│\n",
       "│<span style=\"color: #008080; text-decoration-color: #008080\">    test/multiclassaccuracy_Cloud    </span>│<span style=\"color: #800080; text-decoration-color: #800080\">         0.9174007773399353          </span>│\n",
       "│<span style=\"color: #008080; text-decoration-color: #008080\">     test/multiclassaccuracy_No      </span>│<span style=\"color: #800080; text-decoration-color: #800080\">         0.8952292203903198          </span>│\n",
       "│<span style=\"color: #008080; text-decoration-color: #008080\">  test/multiclassjaccardindex_Cloud  </span>│<span style=\"color: #800080; text-decoration-color: #800080\">         0.8586535453796387          </span>│\n",
       "│<span style=\"color: #008080; text-decoration-color: #008080\">   test/multiclassjaccardindex_No    </span>│<span style=\"color: #800080; text-decoration-color: #800080\">         0.7947084307670593          </span>│\n",
       "└─────────────────────────────────────┴─────────────────────────────────────┘\n",
       "</pre>\n"
      ],
      "text/plain": [
       "┏━━━━━━━━━━━━━━━━━━━━━━━━━━━━━━━━━━━━━┳━━━━━━━━━━━━━━━━━━━━━━━━━━━━━━━━━━━━━┓\n",
       "┃\u001b[1m \u001b[0m\u001b[1m            Test metric            \u001b[0m\u001b[1m \u001b[0m┃\u001b[1m \u001b[0m\u001b[1m           DataLoader 0            \u001b[0m\u001b[1m \u001b[0m┃\n",
       "┡━━━━━━━━━━━━━━━━━━━━━━━━━━━━━━━━━━━━━╇━━━━━━━━━━━━━━━━━━━━━━━━━━━━━━━━━━━━━┩\n",
       "│\u001b[36m \u001b[0m\u001b[36m     test/Multiclass_Accuracy      \u001b[0m\u001b[36m \u001b[0m│\u001b[35m \u001b[0m\u001b[35m        0.9086419343948364         \u001b[0m\u001b[35m \u001b[0m│\n",
       "│\u001b[36m \u001b[0m\u001b[36m     test/Multiclass_F1_Score      \u001b[0m\u001b[36m \u001b[0m│\u001b[35m \u001b[0m\u001b[35m        0.9086419343948364         \u001b[0m\u001b[35m \u001b[0m│\n",
       "│\u001b[36m \u001b[0m\u001b[36m   test/Multiclass_Jaccard_Index   \u001b[0m\u001b[36m \u001b[0m│\u001b[35m \u001b[0m\u001b[35m        0.8266810178756714         \u001b[0m\u001b[35m \u001b[0m│\n",
       "│\u001b[36m \u001b[0m\u001b[36mtest/Multiclass_Jaccard_Index_Micro\u001b[0m\u001b[36m \u001b[0m│\u001b[35m \u001b[0m\u001b[35m        0.8325790762901306         \u001b[0m\u001b[35m \u001b[0m│\n",
       "│\u001b[36m \u001b[0m\u001b[36m             test/loss             \u001b[0m\u001b[36m \u001b[0m│\u001b[35m \u001b[0m\u001b[35m        0.30641746520996094        \u001b[0m\u001b[35m \u001b[0m│\n",
       "│\u001b[36m \u001b[0m\u001b[36m   test/multiclassaccuracy_Cloud   \u001b[0m\u001b[36m \u001b[0m│\u001b[35m \u001b[0m\u001b[35m        0.9174007773399353         \u001b[0m\u001b[35m \u001b[0m│\n",
       "│\u001b[36m \u001b[0m\u001b[36m    test/multiclassaccuracy_No     \u001b[0m\u001b[36m \u001b[0m│\u001b[35m \u001b[0m\u001b[35m        0.8952292203903198         \u001b[0m\u001b[35m \u001b[0m│\n",
       "│\u001b[36m \u001b[0m\u001b[36m test/multiclassjaccardindex_Cloud \u001b[0m\u001b[36m \u001b[0m│\u001b[35m \u001b[0m\u001b[35m        0.8586535453796387         \u001b[0m\u001b[35m \u001b[0m│\n",
       "│\u001b[36m \u001b[0m\u001b[36m  test/multiclassjaccardindex_No   \u001b[0m\u001b[36m \u001b[0m│\u001b[35m \u001b[0m\u001b[35m        0.7947084307670593         \u001b[0m\u001b[35m \u001b[0m│\n",
       "└─────────────────────────────────────┴─────────────────────────────────────┘\n"
      ]
     },
     "metadata": {},
     "output_type": "display_data"
    },
    {
     "data": {
      "text/html": [
       "<pre style=\"white-space:pre;overflow-x:auto;line-height:normal;font-family:Menlo,'DejaVu Sans Mono',consolas,'Courier New',monospace\"></pre>\n"
      ],
      "text/plain": []
     },
     "metadata": {},
     "output_type": "display_data"
    }
   ],
   "source": [
    "res = trainer.test(model=task, datamodule=datamodule) # Check default saved model here"
   ]
  },
  {
   "cell_type": "code",
   "execution_count": null,
   "id": "NFV4cNnoGcQC",
   "metadata": {
    "id": "NFV4cNnoGcQC"
   },
   "outputs": [],
   "source": [
    "# ! zip -r .zip ..."
   ]
  },
  {
   "cell_type": "markdown",
   "id": "d5fc5fd69d827d7a",
   "metadata": {
    "id": "d5fc5fd69d827d7a"
   },
   "source": [
    "# CLI tool\n",
    "\n",
    "You find an example for SMP models in `configs/burnscars_smp.yaml` that you can run with `terratorch fit -c configs/burnscars_smp.yaml`."
   ]
  },
  {
   "cell_type": "code",
   "execution_count": null,
   "id": "c9e86e3208bf47d1",
   "metadata": {
    "id": "c9e86e3208bf47d1"
   },
   "outputs": [],
   "source": []
  }
 ],
 "metadata": {
  "accelerator": "GPU",
  "colab": {
   "gpuType": "T4",
   "provenance": []
  },
  "kernelspec": {
   "display_name": "s2-cloudcover",
   "language": "python",
   "name": "python3"
  },
  "language_info": {
   "codemirror_mode": {
    "name": "ipython",
    "version": 3
   },
   "file_extension": ".py",
   "mimetype": "text/x-python",
   "name": "python",
   "nbconvert_exporter": "python",
   "pygments_lexer": "ipython3",
   "version": "3.12.9"
  }
 },
 "nbformat": 4,
 "nbformat_minor": 5
}
