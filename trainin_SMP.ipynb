{
 "cells": [
  {
   "cell_type": "code",
   "execution_count": 6,
   "id": "dca2c445",
   "metadata": {
    "id": "dca2c445"
   },
   "outputs": [
    {
     "name": "stdout",
     "output_type": "stream",
     "text": [
      "The autoreload extension is already loaded. To reload it, use:\n",
      "  %reload_ext autoreload\n"
     ]
    }
   ],
   "source": [
    "%load_ext autoreload\n",
    "%autoreload 2"
   ]
  },
  {
   "cell_type": "code",
   "execution_count": 7,
   "id": "epjPMMeUN_rE",
   "metadata": {
    "id": "epjPMMeUN_rE"
   },
   "outputs": [],
   "source": [
    "import warnings\n",
    "warnings.filterwarnings(\"ignore\")"
   ]
  },
  {
   "cell_type": "markdown",
   "id": "XPNaTx4JMiRm",
   "metadata": {
    "id": "XPNaTx4JMiRm",
    "jp-MarkdownHeadingCollapsed": true
   },
   "source": [
    "# Set up\n",
    "*   Install libraries\n",
    "*   Load dataset"
   ]
  },
  {
   "cell_type": "code",
   "execution_count": null,
   "id": "N3PaJgvfrSgx",
   "metadata": {
    "id": "N3PaJgvfrSgx"
   },
   "outputs": [],
   "source": [
    "# ! rm -rf dataset\n",
    "# ! rm -rf library"
   ]
  },
  {
   "cell_type": "code",
   "execution_count": null,
   "id": "aXJevMCtE75o",
   "metadata": {
    "id": "aXJevMCtE75o"
   },
   "outputs": [],
   "source": [
    "# ! pip install terratorch"
   ]
  },
  {
   "cell_type": "code",
   "execution_count": null,
   "id": "nzA8r3BjjcoX",
   "metadata": {
    "id": "nzA8r3BjjcoX"
   },
   "outputs": [],
   "source": [
    "# ! mkdir -p dataset\n",
    "# ! mkdir -p library"
   ]
  },
  {
   "cell_type": "code",
   "execution_count": null,
   "id": "pbQhbb-HSoAu",
   "metadata": {
    "id": "pbQhbb-HSoAu"
   },
   "outputs": [],
   "source": [
    "# ! wget https://huggingface.co/datasets/hk-kaden-kim/Small_S2_CloudCover_Seg/resolve/main/train.zip -P dataset\n",
    "# ! unzip -q dataset/train.zip -d dataset\n",
    "# ! rm dataset/train.zip"
   ]
  },
  {
   "cell_type": "code",
   "execution_count": null,
   "id": "1SBgdN6mTFnR",
   "metadata": {
    "id": "1SBgdN6mTFnR"
   },
   "outputs": [],
   "source": [
    "# ! wget https://huggingface.co/datasets/hk-kaden-kim/Small_S2_CloudCover_Seg/resolve/main/test.zip -P dataset\n",
    "# ! unzip -q dataset/test.zip -d dataset\n",
    "# ! rm dataset/test.zip"
   ]
  },
  {
   "cell_type": "code",
   "execution_count": null,
   "id": "TlZOwaU9kIJU",
   "metadata": {
    "id": "TlZOwaU9kIJU"
   },
   "outputs": [],
   "source": [
    "# ! wget https://github.com/hk-kaden-kim/S2-CloudCover/raw/refs/heads/main/library/__init__.py -P library\n",
    "# ! wget https://github.com/hk-kaden-kim/S2-CloudCover/raw/refs/heads/main/library/analysis.py -P library\n",
    "# ! wget https://github.com/hk-kaden-kim/S2-CloudCover/raw/refs/heads/main/library/dataset.py -P library"
   ]
  },
  {
   "cell_type": "code",
   "execution_count": null,
   "id": "FL-XzotzkD3U",
   "metadata": {
    "id": "FL-XzotzkD3U"
   },
   "outputs": [],
   "source": [
    "# ! rm -rf dataset/__MACOSX"
   ]
  },
  {
   "cell_type": "markdown",
   "id": "c95ef947be616ef8",
   "metadata": {
    "id": "c95ef947be616ef8"
   },
   "source": [
    "# Lightning Trainers"
   ]
  },
  {
   "cell_type": "code",
   "execution_count": 8,
   "id": "9kIGRy3jrY1R",
   "metadata": {
    "id": "9kIGRy3jrY1R"
   },
   "outputs": [
    {
     "name": "stderr",
     "output_type": "stream",
     "text": [
      "INFO:numexpr.utils:NumExpr defaulting to 4 threads.\n",
      "INFO:albumentations.check_version:A new version of Albumentations is available: 2.0.5 (you have 1.4.10). Upgrade using: pip install --upgrade albumentations\n"
     ]
    }
   ],
   "source": [
    "from terratorch.datamodules import TorchNonGeoDataModule\n",
    "\n",
    "from library.dataset import CustomNonGeoDataModule, CustomCloudCoverDetection\n",
    "\n",
    "import albumentations as A\n",
    "from albumentations.pytorch import ToTensorV2\n",
    "\n",
    "BATCH_SIZE = 16 # 32\n",
    "\n",
    "datamodule = TorchNonGeoDataModule(\n",
    "\n",
    "    # Dataset Module\n",
    "    cls = CustomNonGeoDataModule,\n",
    "    batch_size = BATCH_SIZE,\n",
    "    num_workers = 2,\n",
    "    train_aug=[\n",
    "        A.D4(),   # D4 package : e | r90 | r180 | r270 | v | hvt | h | t\n",
    "        A.ToFloat(max_value=65536.0),   \n",
    "        ToTensorV2(),\n",
    "        ],\n",
    "    val_aug=[\n",
    "        A.ToFloat(max_value=65536.0),   \n",
    "        ToTensorV2()\n",
    "        ],\n",
    "    test_aug=[\n",
    "        A.ToFloat(max_value=65536.0),   \n",
    "        ToTensorV2()\n",
    "        ],\n",
    "\n",
    "    # Dataset\n",
    "    dataset_class = CustomCloudCoverDetection,\n",
    "    root = './dataset',\n",
    "    bands = ['B02', 'B03', 'B04', 'B08'],\n",
    "    download=False\n",
    ")"
   ]
  },
  {
   "cell_type": "code",
   "execution_count": 27,
   "id": "5d64dedcf582c53f",
   "metadata": {
    "ExecuteTime": {
     "end_time": "2024-09-20T09:30:58.985260Z",
     "start_time": "2024-09-20T09:30:58.475305Z"
    },
    "id": "5d64dedcf582c53f"
   },
   "outputs": [],
   "source": [
    "from terratorch.tasks import SemanticSegmentationTask\n",
    "from library.analysis import CustomSemanticSegmentationTask\n",
    "\n",
    "LOSS = 'ce'\n",
    "LEARNING_RATE = 1e-3\n",
    "OPTIMIZER = 'AdamW'\n",
    "OPTIMIZER_HPARAMS = {\"weight_decay\": 0.05}\n",
    "\n",
    "model_args = {\n",
    "        \"backbone\":\"resnet34\", # see smp_encoders.keys()\n",
    "        'model': 'DeepLabV3Plus', # 'DeepLabV3', 'DeepLabV3Plus', 'FPN', 'Linknet', 'MAnet', 'PAN', 'PSPNet', 'Unet', 'UnetPlusPlus'\n",
    "        \"bands\": ['B02', 'B03', 'B04', 'B08'], # We use the 4 bands from the Sentinel-2 dataset.\n",
    "        \"in_channels\": 4,\n",
    "        \"num_classes\": 2,\n",
    "        \"pretrained\": True,\n",
    "}\n",
    "\n",
    "task = SemanticSegmentationTask(\n",
    "    model_args=model_args,\n",
    "    model_factory=\"SMPModelFactory\",\n",
    "    loss=LOSS,\n",
    "    lr=LEARNING_RATE,\n",
    "    optimizer=OPTIMIZER,\n",
    "    optimizer_hparams=OPTIMIZER_HPARAMS,\n",
    "    freeze_backbone=True,\n",
    "    freeze_decoder=False,\n",
    "    class_names=['No', 'Cloud'],\n",
    "    plot_on_val=0,\n",
    ")"
   ]
  },
  {
   "cell_type": "code",
   "execution_count": 28,
   "id": "706bc5b0f5da7c5e",
   "metadata": {
    "ExecuteTime": {
     "end_time": "2024-09-20T09:32:03.414907Z",
     "start_time": "2024-09-20T09:31:03.644418Z"
    },
    "id": "706bc5b0f5da7c5e"
   },
   "outputs": [
    {
     "name": "stderr",
     "output_type": "stream",
     "text": [
      "INFO: Using 16bit Automatic Mixed Precision (AMP)\n",
      "INFO:lightning.pytorch.utilities.rank_zero:Using 16bit Automatic Mixed Precision (AMP)\n",
      "INFO: GPU available: True (cuda), used: True\n",
      "INFO:lightning.pytorch.utilities.rank_zero:GPU available: True (cuda), used: True\n",
      "INFO: TPU available: False, using: 0 TPU cores\n",
      "INFO:lightning.pytorch.utilities.rank_zero:TPU available: False, using: 0 TPU cores\n",
      "INFO: HPU available: False, using: 0 HPUs\n",
      "INFO:lightning.pytorch.utilities.rank_zero:HPU available: False, using: 0 HPUs\n"
     ]
    }
   ],
   "source": [
    "from lightning.pytorch import Trainer\n",
    "from lightning.pytorch.callbacks import EarlyStopping, LearningRateMonitor, ModelCheckpoint, RichProgressBar\n",
    "from lightning.pytorch.loggers import TensorBoardLogger\n",
    "\n",
    "EPOCH = 30\n",
    "MAIN_METRIC = 'Multiclass_Jaccard_Index'\n",
    "\n",
    "checkpoint_callback = ModelCheckpoint(mode=\"max\",\n",
    "                                      monitor=f\"val/{MAIN_METRIC}\", # Variable to monitor\n",
    "                                      filename=\"best-{epoch:02d}\",)\n",
    "early_stopping_callback = EarlyStopping(mode=\"max\",\n",
    "                                        monitor=f\"val/{MAIN_METRIC}\",\n",
    "                                        min_delta=0.0001,\n",
    "                                        patience=5)\n",
    "\n",
    "logger = TensorBoardLogger(save_dir='output',\n",
    "                           version=f\"E{EPOCH}_B{BATCH_SIZE}_{LOSS}_LR{LEARNING_RATE}\",\n",
    "                           name=f\"{model_args['model']}_{model_args['backbone']}\")\n",
    "\n",
    "trainer = Trainer(\n",
    "    devices=1, # Number of GPUs. Interactive mode recommended with 1 device\n",
    "    precision=\"16-mixed\",\n",
    "    callbacks=[\n",
    "        RichProgressBar(),\n",
    "        checkpoint_callback,\n",
    "        # early_stopping_callback,\n",
    "        LearningRateMonitor(logging_interval=\"epoch\"),\n",
    "    ],\n",
    "    logger=logger,\n",
    "    max_epochs=EPOCH,\n",
    "    default_root_dir='output',\n",
    "    log_every_n_steps=1,\n",
    "    check_val_every_n_epoch=1\n",
    ")"
   ]
  },
  {
   "cell_type": "code",
   "execution_count": 29,
   "id": "Q78BdyVOmaZo",
   "metadata": {
    "id": "Q78BdyVOmaZo"
   },
   "outputs": [
    {
     "name": "stderr",
     "output_type": "stream",
     "text": [
      "INFO: LOCAL_RANK: 0 - CUDA_VISIBLE_DEVICES: [0]\n",
      "INFO:lightning.pytorch.accelerators.cuda:LOCAL_RANK: 0 - CUDA_VISIBLE_DEVICES: [0]\n"
     ]
    },
    {
     "data": {
      "text/html": [
       "<pre style=\"white-space:pre;overflow-x:auto;line-height:normal;font-family:Menlo,'DejaVu Sans Mono',consolas,'Courier New',monospace\">┏━━━┳━━━━━━━━━━━━━━━┳━━━━━━━━━━━━━━━━━━┳━━━━━━━━┳━━━━━━━┓\n",
       "┃<span style=\"color: #800080; text-decoration-color: #800080; font-weight: bold\">   </span>┃<span style=\"color: #800080; text-decoration-color: #800080; font-weight: bold\"> Name          </span>┃<span style=\"color: #800080; text-decoration-color: #800080; font-weight: bold\"> Type             </span>┃<span style=\"color: #800080; text-decoration-color: #800080; font-weight: bold\"> Params </span>┃<span style=\"color: #800080; text-decoration-color: #800080; font-weight: bold\"> Mode  </span>┃\n",
       "┡━━━╇━━━━━━━━━━━━━━━╇━━━━━━━━━━━━━━━━━━╇━━━━━━━━╇━━━━━━━┩\n",
       "│<span style=\"color: #7f7f7f; text-decoration-color: #7f7f7f\"> 0 </span>│ model         │ SMPModelWrapper  │ 22.4 M │ train │\n",
       "│<span style=\"color: #7f7f7f; text-decoration-color: #7f7f7f\"> 1 </span>│ criterion     │ CrossEntropyLoss │      0 │ train │\n",
       "│<span style=\"color: #7f7f7f; text-decoration-color: #7f7f7f\"> 2 </span>│ train_metrics │ MetricCollection │      0 │ train │\n",
       "│<span style=\"color: #7f7f7f; text-decoration-color: #7f7f7f\"> 3 </span>│ val_metrics   │ MetricCollection │      0 │ train │\n",
       "│<span style=\"color: #7f7f7f; text-decoration-color: #7f7f7f\"> 4 </span>│ test_metrics  │ ModuleList       │      0 │ train │\n",
       "└───┴───────────────┴──────────────────┴────────┴───────┘\n",
       "</pre>\n"
      ],
      "text/plain": [
       "┏━━━┳━━━━━━━━━━━━━━━┳━━━━━━━━━━━━━━━━━━┳━━━━━━━━┳━━━━━━━┓\n",
       "┃\u001b[1;35m \u001b[0m\u001b[1;35m \u001b[0m\u001b[1;35m \u001b[0m┃\u001b[1;35m \u001b[0m\u001b[1;35mName         \u001b[0m\u001b[1;35m \u001b[0m┃\u001b[1;35m \u001b[0m\u001b[1;35mType            \u001b[0m\u001b[1;35m \u001b[0m┃\u001b[1;35m \u001b[0m\u001b[1;35mParams\u001b[0m\u001b[1;35m \u001b[0m┃\u001b[1;35m \u001b[0m\u001b[1;35mMode \u001b[0m\u001b[1;35m \u001b[0m┃\n",
       "┡━━━╇━━━━━━━━━━━━━━━╇━━━━━━━━━━━━━━━━━━╇━━━━━━━━╇━━━━━━━┩\n",
       "│\u001b[2m \u001b[0m\u001b[2m0\u001b[0m\u001b[2m \u001b[0m│ model         │ SMPModelWrapper  │ 22.4 M │ train │\n",
       "│\u001b[2m \u001b[0m\u001b[2m1\u001b[0m\u001b[2m \u001b[0m│ criterion     │ CrossEntropyLoss │      0 │ train │\n",
       "│\u001b[2m \u001b[0m\u001b[2m2\u001b[0m\u001b[2m \u001b[0m│ train_metrics │ MetricCollection │      0 │ train │\n",
       "│\u001b[2m \u001b[0m\u001b[2m3\u001b[0m\u001b[2m \u001b[0m│ val_metrics   │ MetricCollection │      0 │ train │\n",
       "│\u001b[2m \u001b[0m\u001b[2m4\u001b[0m\u001b[2m \u001b[0m│ test_metrics  │ ModuleList       │      0 │ train │\n",
       "└───┴───────────────┴──────────────────┴────────┴───────┘\n"
      ]
     },
     "metadata": {},
     "output_type": "display_data"
    },
    {
     "data": {
      "text/html": [
       "<pre style=\"white-space:pre;overflow-x:auto;line-height:normal;font-family:Menlo,'DejaVu Sans Mono',consolas,'Courier New',monospace\"><span style=\"font-weight: bold\">Trainable params</span>: 1.2 M                                                                                            \n",
       "<span style=\"font-weight: bold\">Non-trainable params</span>: 21.3 M                                                                                       \n",
       "<span style=\"font-weight: bold\">Total params</span>: 22.4 M                                                                                               \n",
       "<span style=\"font-weight: bold\">Total estimated model params size (MB)</span>: 89                                                                         \n",
       "<span style=\"font-weight: bold\">Modules in train mode</span>: 203                                                                                         \n",
       "<span style=\"font-weight: bold\">Modules in eval mode</span>: 0                                                                                            \n",
       "</pre>\n"
      ],
      "text/plain": [
       "\u001b[1mTrainable params\u001b[0m: 1.2 M                                                                                            \n",
       "\u001b[1mNon-trainable params\u001b[0m: 21.3 M                                                                                       \n",
       "\u001b[1mTotal params\u001b[0m: 22.4 M                                                                                               \n",
       "\u001b[1mTotal estimated model params size (MB)\u001b[0m: 89                                                                         \n",
       "\u001b[1mModules in train mode\u001b[0m: 203                                                                                         \n",
       "\u001b[1mModules in eval mode\u001b[0m: 0                                                                                            \n"
      ]
     },
     "metadata": {},
     "output_type": "display_data"
    },
    {
     "name": "stderr",
     "output_type": "stream",
     "text": [
      "INFO: `Trainer.fit` stopped: `max_epochs=30` reached.\n",
      "INFO:lightning.pytorch.utilities.rank_zero:`Trainer.fit` stopped: `max_epochs=30` reached.\n"
     ]
    },
    {
     "data": {
      "text/html": [
       "<pre style=\"white-space:pre;overflow-x:auto;line-height:normal;font-family:Menlo,'DejaVu Sans Mono',consolas,'Courier New',monospace\"></pre>\n"
      ],
      "text/plain": []
     },
     "metadata": {},
     "output_type": "display_data"
    }
   ],
   "source": [
    "_ = trainer.fit(model=task, datamodule=datamodule)"
   ]
  },
  {
   "cell_type": "code",
   "execution_count": 30,
   "id": "2d92341bdd5653bc",
   "metadata": {
    "ExecuteTime": {
     "end_time": "2024-09-20T08:56:02.167413Z",
     "start_time": "2024-09-20T08:55:49.306963Z"
    },
    "id": "2d92341bdd5653bc"
   },
   "outputs": [
    {
     "name": "stderr",
     "output_type": "stream",
     "text": [
      "INFO: LOCAL_RANK: 0 - CUDA_VISIBLE_DEVICES: [0]\n",
      "INFO:lightning.pytorch.accelerators.cuda:LOCAL_RANK: 0 - CUDA_VISIBLE_DEVICES: [0]\n"
     ]
    },
    {
     "data": {
      "text/html": [
       "<pre style=\"white-space:pre;overflow-x:auto;line-height:normal;font-family:Menlo,'DejaVu Sans Mono',consolas,'Courier New',monospace\">┏━━━━━━━━━━━━━━━━━━━━━━━━━━━━━━━━━━━━━┳━━━━━━━━━━━━━━━━━━━━━━━━━━━━━━━━━━━━━┓\n",
       "┃<span style=\"font-weight: bold\">             Test metric             </span>┃<span style=\"font-weight: bold\">            DataLoader 0             </span>┃\n",
       "┡━━━━━━━━━━━━━━━━━━━━━━━━━━━━━━━━━━━━━╇━━━━━━━━━━━━━━━━━━━━━━━━━━━━━━━━━━━━━┩\n",
       "│<span style=\"color: #008080; text-decoration-color: #008080\">      test/Multiclass_Accuracy       </span>│<span style=\"color: #800080; text-decoration-color: #800080\">         0.8643276691436768          </span>│\n",
       "│<span style=\"color: #008080; text-decoration-color: #008080\">      test/Multiclass_F1_Score       </span>│<span style=\"color: #800080; text-decoration-color: #800080\">         0.8643276691436768          </span>│\n",
       "│<span style=\"color: #008080; text-decoration-color: #008080\">    test/Multiclass_Jaccard_Index    </span>│<span style=\"color: #800080; text-decoration-color: #800080\">         0.7454323768615723          </span>│\n",
       "│<span style=\"color: #008080; text-decoration-color: #008080\"> test/Multiclass_Jaccard_Index_Micro </span>│<span style=\"color: #800080; text-decoration-color: #800080\">         0.7610713243484497          </span>│\n",
       "│<span style=\"color: #008080; text-decoration-color: #008080\">              test/loss              </span>│<span style=\"color: #800080; text-decoration-color: #800080\">         0.3959507942199707          </span>│\n",
       "│<span style=\"color: #008080; text-decoration-color: #008080\">    test/multiclassaccuracy_Cloud    </span>│<span style=\"color: #800080; text-decoration-color: #800080\">         0.9470270276069641          </span>│\n",
       "│<span style=\"color: #008080; text-decoration-color: #008080\">     test/multiclassaccuracy_No      </span>│<span style=\"color: #800080; text-decoration-color: #800080\">         0.7376868724822998          </span>│\n",
       "│<span style=\"color: #008080; text-decoration-color: #008080\">  test/multiclassjaccardindex_Cloud  </span>│<span style=\"color: #800080; text-decoration-color: #800080\">         0.8085288405418396          </span>│\n",
       "│<span style=\"color: #008080; text-decoration-color: #008080\">   test/multiclassjaccardindex_No    </span>│<span style=\"color: #800080; text-decoration-color: #800080\">         0.6823359727859497          </span>│\n",
       "└─────────────────────────────────────┴─────────────────────────────────────┘\n",
       "</pre>\n"
      ],
      "text/plain": [
       "┏━━━━━━━━━━━━━━━━━━━━━━━━━━━━━━━━━━━━━┳━━━━━━━━━━━━━━━━━━━━━━━━━━━━━━━━━━━━━┓\n",
       "┃\u001b[1m \u001b[0m\u001b[1m            Test metric            \u001b[0m\u001b[1m \u001b[0m┃\u001b[1m \u001b[0m\u001b[1m           DataLoader 0            \u001b[0m\u001b[1m \u001b[0m┃\n",
       "┡━━━━━━━━━━━━━━━━━━━━━━━━━━━━━━━━━━━━━╇━━━━━━━━━━━━━━━━━━━━━━━━━━━━━━━━━━━━━┩\n",
       "│\u001b[36m \u001b[0m\u001b[36m     test/Multiclass_Accuracy      \u001b[0m\u001b[36m \u001b[0m│\u001b[35m \u001b[0m\u001b[35m        0.8643276691436768         \u001b[0m\u001b[35m \u001b[0m│\n",
       "│\u001b[36m \u001b[0m\u001b[36m     test/Multiclass_F1_Score      \u001b[0m\u001b[36m \u001b[0m│\u001b[35m \u001b[0m\u001b[35m        0.8643276691436768         \u001b[0m\u001b[35m \u001b[0m│\n",
       "│\u001b[36m \u001b[0m\u001b[36m   test/Multiclass_Jaccard_Index   \u001b[0m\u001b[36m \u001b[0m│\u001b[35m \u001b[0m\u001b[35m        0.7454323768615723         \u001b[0m\u001b[35m \u001b[0m│\n",
       "│\u001b[36m \u001b[0m\u001b[36mtest/Multiclass_Jaccard_Index_Micro\u001b[0m\u001b[36m \u001b[0m│\u001b[35m \u001b[0m\u001b[35m        0.7610713243484497         \u001b[0m\u001b[35m \u001b[0m│\n",
       "│\u001b[36m \u001b[0m\u001b[36m             test/loss             \u001b[0m\u001b[36m \u001b[0m│\u001b[35m \u001b[0m\u001b[35m        0.3959507942199707         \u001b[0m\u001b[35m \u001b[0m│\n",
       "│\u001b[36m \u001b[0m\u001b[36m   test/multiclassaccuracy_Cloud   \u001b[0m\u001b[36m \u001b[0m│\u001b[35m \u001b[0m\u001b[35m        0.9470270276069641         \u001b[0m\u001b[35m \u001b[0m│\n",
       "│\u001b[36m \u001b[0m\u001b[36m    test/multiclassaccuracy_No     \u001b[0m\u001b[36m \u001b[0m│\u001b[35m \u001b[0m\u001b[35m        0.7376868724822998         \u001b[0m\u001b[35m \u001b[0m│\n",
       "│\u001b[36m \u001b[0m\u001b[36m test/multiclassjaccardindex_Cloud \u001b[0m\u001b[36m \u001b[0m│\u001b[35m \u001b[0m\u001b[35m        0.8085288405418396         \u001b[0m\u001b[35m \u001b[0m│\n",
       "│\u001b[36m \u001b[0m\u001b[36m  test/multiclassjaccardindex_No   \u001b[0m\u001b[36m \u001b[0m│\u001b[35m \u001b[0m\u001b[35m        0.6823359727859497         \u001b[0m\u001b[35m \u001b[0m│\n",
       "└─────────────────────────────────────┴─────────────────────────────────────┘\n"
      ]
     },
     "metadata": {},
     "output_type": "display_data"
    },
    {
     "data": {
      "text/html": [
       "<pre style=\"white-space:pre;overflow-x:auto;line-height:normal;font-family:Menlo,'DejaVu Sans Mono',consolas,'Courier New',monospace\"></pre>\n"
      ],
      "text/plain": []
     },
     "metadata": {},
     "output_type": "display_data"
    }
   ],
   "source": [
    "res = trainer.test(model=task, datamodule=datamodule)"
   ]
  },
  {
   "cell_type": "code",
   "execution_count": null,
   "id": "NFV4cNnoGcQC",
   "metadata": {
    "id": "NFV4cNnoGcQC"
   },
   "outputs": [],
   "source": [
    "# ! zip -r DeepLabV3_resnet34.zip output/Unet_resnet34"
   ]
  },
  {
   "cell_type": "code",
   "execution_count": null,
   "id": "c24e4b187fcf27e9",
   "metadata": {
    "ExecuteTime": {
     "end_time": "2024-09-20T08:59:56.462141Z",
     "start_time": "2024-09-20T08:59:04.936504Z"
    },
    "id": "c24e4b187fcf27e9"
   },
   "outputs": [],
   "source": [
    "# %load_ext tensorboard\n",
    "# %tensorboard --logdir output"
   ]
  },
  {
   "cell_type": "code",
   "execution_count": null,
   "id": "94d09fd3-6deb-45bf-90dc-e68bf12d67d4",
   "metadata": {},
   "outputs": [],
   "source": [
    "\"\"\"\n",
    "Model : UNet with ResNet34\n",
    "Epoch : 30\n",
    "Batch : 16\n",
    "loss : ce\n",
    "lr : 1e-3\n",
    "┏━━━━━━━━━━━━━━━━━━━━━━━━━━━━━━━━━━━━━┳━━━━━━━━━━━━━━━━━━━━━━━━━━━━━━━━━━━━━┓\n",
    "┃             Test metric             ┃            DataLoader 0             ┃\n",
    "┡━━━━━━━━━━━━━━━━━━━━━━━━━━━━━━━━━━━━━╇━━━━━━━━━━━━━━━━━━━━━━━━━━━━━━━━━━━━━┩\n",
    "│      test/Multiclass_Accuracy       │         0.8920501470565796          │\n",
    "│      test/Multiclass_F1_Score       │         0.8920501470565796          │\n",
    "│    test/Multiclass_Jaccard_Index    │         0.7992327809333801          │\n",
    "│ test/Multiclass_Jaccard_Index_Micro │         0.8051358461380005          │\n",
    "│              test/loss              │         0.29767701029777527         │\n",
    "│    test/multiclassaccuracy_Cloud    │         0.8943116664886475          │\n",
    "│     test/multiclassaccuracy_No      │         0.8885871171951294          │\n",
    "│  test/multiclassjaccardindex_Cloud  │         0.8336586356163025          │\n",
    "│   test/multiclassjaccardindex_No    │         0.7648069262504578          │\n",
    "└─────────────────────────────────────┴─────────────────────────────────────┘\n",
    "\n",
    "Model : UNet++ with ResNet34\n",
    "Epoch : 30\n",
    "Batch : 16\n",
    "loss : ce\n",
    "lr : 1e-3\n",
    "Trainable params: 4.8 M\n",
    "Non-trainable params: 21.3 M\n",
    "Total params: 26.1 M\n",
    "Total estimated model params size (MB): 104\n",
    "┏━━━━━━━━━━━━━━━━━━━━━━━━━━━━━━━━━━━━━┳━━━━━━━━━━━━━━━━━━━━━━━━━━━━━━━━━━━━━┓\n",
    "┃             Test metric             ┃            DataLoader 0             ┃\n",
    "┡━━━━━━━━━━━━━━━━━━━━━━━━━━━━━━━━━━━━━╇━━━━━━━━━━━━━━━━━━━━━━━━━━━━━━━━━━━━━┩\n",
    "│      test/Multiclass_Accuracy       │         0.8686501383781433          │\n",
    "│      test/Multiclass_F1_Score       │         0.8686501383781433          │\n",
    "│    test/Multiclass_Jaccard_Index    │         0.7505015134811401          │\n",
    "│ test/Multiclass_Jaccard_Index_Micro │         0.7677997350692749          │\n",
    "│              test/loss              │         0.3378654420375824          │\n",
    "│    test/multiclassaccuracy_Cloud    │         0.9641627669334412          │\n",
    "│     test/multiclassaccuracy_No      │         0.7223877906799316          │\n",
    "│  test/multiclassjaccardindex_Cloud  │         0.8161967992782593          │\n",
    "│   test/multiclassjaccardindex_No    │          0.684806227684021          │\n",
    "└─────────────────────────────────────┴─────────────────────────────────────┘\n",
    "\n",
    "Model : DeepLabV3 with ResNet34\n",
    "Epoch : 30\n",
    "Batch : 16\n",
    "loss : ce\n",
    "lr : 1e-3\n",
    "Trainable params: 4.7 M                                                                                            \n",
    "Non-trainable params: 21.3 M                                                                                       \n",
    "Total params: 26.0 M                                                                                               \n",
    "Total estimated model params size (MB): 104 \n",
    "┏━━━━━━━━━━━━━━━━━━━━━━━━━━━━━━━━━━━━━┳━━━━━━━━━━━━━━━━━━━━━━━━━━━━━━━━━━━━━┓\n",
    "┃             Test metric             ┃            DataLoader 0             ┃\n",
    "┡━━━━━━━━━━━━━━━━━━━━━━━━━━━━━━━━━━━━━╇━━━━━━━━━━━━━━━━━━━━━━━━━━━━━━━━━━━━━┩\n",
    "│      test/Multiclass_Accuracy       │         0.8701466917991638          │\n",
    "│      test/Multiclass_F1_Score       │         0.8701466917991638          │\n",
    "│    test/Multiclass_Jaccard_Index    │         0.7591824531555176          │\n",
    "│ test/Multiclass_Jaccard_Index_Micro │         0.7701413631439209          │\n",
    "│              test/loss              │         0.34615635871887207         │\n",
    "│    test/multiclassaccuracy_Cloud    │         0.9183960556983948          │\n",
    "│     test/multiclassaccuracy_No      │         0.7962605953216553          │\n",
    "│  test/multiclassjaccardindex_Cloud  │         0.8105546832084656          │\n",
    "│   test/multiclassjaccardindex_No    │         0.7078101634979248          │\n",
    "└─────────────────────────────────────┴─────────────────────────────────────┘\n",
    "\n",
    "Model : DeepLabV3+ with ResNet34\n",
    "Epoch : 30\n",
    "Batch : 16\n",
    "loss : ce\n",
    "lr : 1e-3\n",
    "Trainable params: 1.2 M                                                                                            \n",
    "Non-trainable params: 21.3 M                                                                                       \n",
    "Total params: 22.4 M                                                                                               \n",
    "Total estimated model params size (MB): 89  \n",
    "┏━━━━━━━━━━━━━━━━━━━━━━━━━━━━━━━━━━━━━┳━━━━━━━━━━━━━━━━━━━━━━━━━━━━━━━━━━━━━┓\n",
    "┃             Test metric             ┃            DataLoader 0             ┃\n",
    "┡━━━━━━━━━━━━━━━━━━━━━━━━━━━━━━━━━━━━━╇━━━━━━━━━━━━━━━━━━━━━━━━━━━━━━━━━━━━━┩\n",
    "│      test/Multiclass_Accuracy       │         0.8643276691436768          │\n",
    "│      test/Multiclass_F1_Score       │         0.8643276691436768          │\n",
    "│    test/Multiclass_Jaccard_Index    │         0.7454323768615723          │\n",
    "│ test/Multiclass_Jaccard_Index_Micro │         0.7610713243484497          │\n",
    "│              test/loss              │         0.3959507942199707          │\n",
    "│    test/multiclassaccuracy_Cloud    │         0.9470270276069641          │\n",
    "│     test/multiclassaccuracy_No      │         0.7376868724822998          │\n",
    "│  test/multiclassjaccardindex_Cloud  │         0.8085288405418396          │\n",
    "│   test/multiclassjaccardindex_No    │         0.6823359727859497          │\n",
    "└─────────────────────────────────────┴─────────────────────────────────────┘\n",
    "\"\"\""
   ]
  },
  {
   "cell_type": "markdown",
   "id": "d5fc5fd69d827d7a",
   "metadata": {
    "id": "d5fc5fd69d827d7a"
   },
   "source": [
    "# CLI tool\n",
    "\n",
    "You find an example for SMP models in `configs/burnscars_smp.yaml` that you can run with `terratorch fit -c configs/burnscars_smp.yaml`."
   ]
  },
  {
   "cell_type": "code",
   "execution_count": null,
   "id": "c9e86e3208bf47d1",
   "metadata": {
    "id": "c9e86e3208bf47d1"
   },
   "outputs": [],
   "source": []
  }
 ],
 "metadata": {
  "accelerator": "GPU",
  "colab": {
   "gpuType": "T4",
   "provenance": []
  },
  "kernelspec": {
   "display_name": "s2-cloudcover-terratorch",
   "language": "python",
   "name": "s2-cloudcover-terratorch"
  },
  "language_info": {
   "codemirror_mode": {
    "name": "ipython",
    "version": 3
   },
   "file_extension": ".py",
   "mimetype": "text/x-python",
   "name": "python",
   "nbconvert_exporter": "python",
   "pygments_lexer": "ipython3",
   "version": "3.11.11"
  }
 },
 "nbformat": 4,
 "nbformat_minor": 5
}
