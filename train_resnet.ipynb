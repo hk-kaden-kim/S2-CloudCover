{
 "cells": [
  {
   "cell_type": "code",
   "execution_count": null,
   "id": "dca2c445",
   "metadata": {
    "id": "dca2c445"
   },
   "outputs": [],
   "source": [
    "%load_ext autoreload\n",
    "%autoreload 2"
   ]
  },
  {
   "cell_type": "code",
   "execution_count": null,
   "id": "epjPMMeUN_rE",
   "metadata": {
    "id": "epjPMMeUN_rE"
   },
   "outputs": [],
   "source": [
    "import warnings\n",
    "warnings.filterwarnings(\"ignore\", category=UserWarning)\n",
    "\n",
    "import lightning.pytorch as pl\n",
    "pl.seed_everything(0)"
   ]
  },
  {
   "cell_type": "markdown",
   "id": "XPNaTx4JMiRm",
   "metadata": {
    "id": "XPNaTx4JMiRm",
    "jp-MarkdownHeadingCollapsed": true
   },
   "source": [
    "# Set up\n",
    "*   Install libraries\n",
    "*   Load dataset"
   ]
  },
  {
   "cell_type": "code",
   "execution_count": null,
   "id": "N3PaJgvfrSgx",
   "metadata": {
    "id": "N3PaJgvfrSgx"
   },
   "outputs": [],
   "source": [
    "# ! rm -rf dataset\n",
    "# ! rm -rf library"
   ]
  },
  {
   "cell_type": "code",
   "execution_count": null,
   "id": "0804fbfd-e0db-48b0-98d4-8c499cc7c462",
   "metadata": {},
   "outputs": [],
   "source": [
    "! pip show terratorch"
   ]
  },
  {
   "cell_type": "markdown",
   "id": "b5cdf1b6-742e-4ea1-a261-41b25f20774f",
   "metadata": {
    "jp-MarkdownHeadingCollapsed": true
   },
   "source": [
    "## Setting for Google Colab Notebook\n",
    "\n",
    "If you run on Google Colab Notebook, install python library first by using command below.\n"
   ]
  },
  {
   "cell_type": "code",
   "execution_count": null,
   "id": "aXJevMCtE75o",
   "metadata": {
    "id": "aXJevMCtE75o"
   },
   "outputs": [],
   "source": [
    "# ! pip install xarray-spatial git+https://github.com/IBM/terratorch.git@fix/506"
   ]
  },
  {
   "cell_type": "code",
   "execution_count": null,
   "id": "9e70f74f-9b65-4249-b64e-c50af82acef6",
   "metadata": {},
   "outputs": [],
   "source": [
    "import terratorch\n",
    "# pip install granitewxc"
   ]
  },
  {
   "cell_type": "code",
   "execution_count": null,
   "id": "YHOPJJY6jaJO",
   "metadata": {
    "id": "YHOPJJY6jaJO"
   },
   "outputs": [],
   "source": [
    "# ! mkdir -p library\n",
    "# ! wget https://github.com/hk-kaden-kim/S2-CloudCover/raw/refs/heads/main/library/__init__.py -P library\n",
    "# ! wget https://github.com/hk-kaden-kim/S2-CloudCover/raw/refs/heads/main/library/analysis.py -P library"
   ]
  },
  {
   "cell_type": "code",
   "execution_count": null,
   "id": "TlZOwaU9kIJU",
   "metadata": {
    "id": "TlZOwaU9kIJU"
   },
   "outputs": [],
   "source": [
    "# ! mkdir -p library/datasets\n",
    "# ! wget https://github.com/hk-kaden-kim/S2-CloudCover/raw/refs/heads/main/library/datasets/__init__.py -P library/datasets\n",
    "# ! wget https://github.com/hk-kaden-kim/S2-CloudCover/raw/refs/heads/main/library/datasets/sen2cloud.py -P library/datasets"
   ]
  },
  {
   "cell_type": "code",
   "execution_count": null,
   "id": "G57fKIEgjgpx",
   "metadata": {
    "id": "G57fKIEgjgpx"
   },
   "outputs": [],
   "source": [
    "# ! mkdir -p library/datamodules\n",
    "# ! wget https://github.com/hk-kaden-kim/S2-CloudCover/raw/refs/heads/main/library/datamodules/__init__.py -P library/datamodules\n",
    "# ! wget https://github.com/hk-kaden-kim/S2-CloudCover/raw/refs/heads/main/library/datamodules/sen2cloud.py -P library/datamodules"
   ]
  },
  {
   "cell_type": "code",
   "execution_count": null,
   "id": "a7f4e717-ce2e-4d95-8de3-1912e997c579",
   "metadata": {},
   "outputs": [],
   "source": [
    "# ! mkdir -p library/decoders\n",
    "# ! wget https://github.com/hk-kaden-kim/S2-CloudCover/raw/refs/heads/main/library/decoders/__init__.py -P library/decoders\n",
    "# ! wget https://github.com/hk-kaden-kim/S2-CloudCover/raw/refs/heads/main/library/decoders/unetplusplus.py -P library/decoders"
   ]
  },
  {
   "cell_type": "markdown",
   "id": "e6065345-d0d4-42d9-96d8-2cfd049cfd9b",
   "metadata": {
    "jp-MarkdownHeadingCollapsed": true
   },
   "source": [
    "## Load Dataset"
   ]
  },
  {
   "cell_type": "code",
   "execution_count": null,
   "id": "nzA8r3BjjcoX",
   "metadata": {
    "id": "nzA8r3BjjcoX"
   },
   "outputs": [],
   "source": [
    "# ! mkdir -p dataset"
   ]
  },
  {
   "cell_type": "code",
   "execution_count": null,
   "id": "pbQhbb-HSoAu",
   "metadata": {
    "id": "pbQhbb-HSoAu"
   },
   "outputs": [],
   "source": [
    "# ! wget https://huggingface.co/datasets/hk-kaden-kim/Small_S2_CloudCover_Seg/resolve/main/train.zip -P dataset\n",
    "# ! unzip -q dataset/train.zip -d dataset\n",
    "# ! mv dataset/train dataset/public\n",
    "# ! rm dataset/train.zip"
   ]
  },
  {
   "cell_type": "code",
   "execution_count": null,
   "id": "1SBgdN6mTFnR",
   "metadata": {
    "id": "1SBgdN6mTFnR"
   },
   "outputs": [],
   "source": [
    "# ! wget https://huggingface.co/datasets/hk-kaden-kim/Small_S2_CloudCover_Seg/resolve/main/test.zip -P dataset\n",
    "# ! unzip -q dataset/test.zip -d dataset\n",
    "# ! mv dataset/test dataset/private\n",
    "# ! rm dataset/test.zip"
   ]
  },
  {
   "cell_type": "code",
   "execution_count": null,
   "id": "FL-XzotzkD3U",
   "metadata": {
    "id": "FL-XzotzkD3U"
   },
   "outputs": [],
   "source": [
    "# ! rm -rf dataset/__MACOSX"
   ]
  },
  {
   "cell_type": "markdown",
   "id": "c95ef947be616ef8",
   "metadata": {
    "id": "c95ef947be616ef8"
   },
   "source": [
    "# Lightning Trainers"
   ]
  },
  {
   "cell_type": "code",
   "execution_count": null,
   "id": "9kIGRy3jrY1R",
   "metadata": {
    "id": "9kIGRy3jrY1R"
   },
   "outputs": [],
   "source": [
    "from library.datamodules.sen2cloud import Sen2CloudDataModule\n",
    "\n",
    "BATCH_SIZE = 16 # 32\n",
    "\n",
    "datamodule = Sen2CloudDataModule(\n",
    "    data_root = './dataset',\n",
    "    batch_size = BATCH_SIZE,\n",
    "    means = [2672.63818359375, 2678.138671875, 2587.265380859375, 3507.404052734375],\n",
    "    stds = [3047.300537109375, 2805.623779296875, 2705.935791015625, 2409.601318359375],\n",
    ")\n",
    "\n",
    "datamodule.setup(\"fit\")\n",
    "datamodule.setup(\"test\")\n",
    "\n",
    "train_dataset = datamodule.train_dataset\n",
    "val_dataset = datamodule.val_dataset\n",
    "\n",
    "test_dataset = datamodule.test_dataset\n",
    "len(train_dataset), len(val_dataset), len(test_dataset)"
   ]
  },
  {
   "cell_type": "code",
   "execution_count": null,
   "id": "5d64dedcf582c53f",
   "metadata": {
    "ExecuteTime": {
     "end_time": "2024-09-20T09:30:58.985260Z",
     "start_time": "2024-09-20T09:30:58.475305Z"
    },
    "id": "5d64dedcf582c53f"
   },
   "outputs": [],
   "source": [
    "from terratorch.tasks import SemanticSegmentationTask\n",
    "\n",
    "LOSS = 'ce'\n",
    "LEARNING_RATE = 1e-3\n",
    "OPTIMIZER = 'AdamW'\n",
    "OPTIMIZER_HPARAMS = {\"weight_decay\": 0.05}\n",
    "FREEZE = {'Encoder': False, 'Decoder': False}\n",
    "\n",
    "model_args={\n",
    "    # Backbone (Encoder)\n",
    "    \"backbone\": \"resnet34\",\n",
    "    \"backbone_kwargs\": {\n",
    "        'pretrained': True,\n",
    "        'in_chans': 4,\n",
    "    },\n",
    "\n",
    "    # Decoder\n",
    "    \"decoder\": \"UnetPlusPlus\",      # Unet UnetPlusPlus\n",
    "    \"decoder_kwargs\": {\n",
    "        'decoder_channels': [512, 256, 128, 64],\n",
    "    },\n",
    "\n",
    "    # Head\n",
    "    \"head_dropout\": 0.1,\n",
    "    \"num_classes\": 2,\n",
    "}\n",
    "\n",
    "# Model\n",
    "task = SemanticSegmentationTask(\n",
    "    model_args=model_args,\n",
    "    model_factory=\"EncoderDecoderFactory\",\n",
    "    loss=LOSS,\n",
    "    lr=LEARNING_RATE,\n",
    "    optimizer=OPTIMIZER,\n",
    "    optimizer_hparams=OPTIMIZER_HPARAMS,\n",
    "    freeze_backbone=FREEZE['Encoder'], # True. Only to speed up fine-tuning\n",
    "    freeze_decoder=FREEZE['Decoder'],\n",
    "    class_names=['No', 'Cloud'],  # optionally define class names\n",
    "    plot_on_val=0,\n",
    ")"
   ]
  },
  {
   "cell_type": "code",
   "execution_count": null,
   "id": "706bc5b0f5da7c5e",
   "metadata": {
    "ExecuteTime": {
     "end_time": "2024-09-20T09:32:03.414907Z",
     "start_time": "2024-09-20T09:31:03.644418Z"
    },
    "id": "706bc5b0f5da7c5e"
   },
   "outputs": [],
   "source": [
    "from lightning.pytorch import Trainer\n",
    "from lightning.pytorch.callbacks import EarlyStopping, LearningRateMonitor, ModelCheckpoint, RichProgressBar\n",
    "from lightning.pytorch.loggers import TensorBoardLogger\n",
    "\n",
    "EPOCH = 30\n",
    "\n",
    "checkpoint_callback = ModelCheckpoint(mode=\"max\",\n",
    "                                      monitor=\"val/Multiclass_Jaccard_Index\",\n",
    "                                      filename=\"best-{epoch:02d}\",)\n",
    "# early_stopping_callback = EarlyStopping(mode=\"min\",\n",
    "#                                         monitor=f\"val/loss\",\n",
    "#                                         patience=10)\n",
    "logger = TensorBoardLogger(save_dir='output',\n",
    "                           version=f\"FT_Enc{FREEZE['Encoder']}_Dec{FREEZE['Decoder']}_E{EPOCH}_B{BATCH_SIZE}_{LOSS}_LR{LEARNING_RATE}\",\n",
    "                           name=f\"{model_args['backbone']}_{model_args['decoder']}\")\n",
    "\n",
    "trainer = Trainer(\n",
    "    devices=1, # Number of GPUs. Interactive mode recommended with 1 device\n",
    "    precision=\"16-mixed\",\n",
    "    callbacks=[\n",
    "      RichProgressBar(),\n",
    "      checkpoint_callback, # Set to save max val/IoU and last model\n",
    "      # early_stopping_callback,\n",
    "      LearningRateMonitor(logging_interval=\"epoch\"),\n",
    "      ],\n",
    "    logger=logger,\n",
    "    max_epochs=EPOCH,\n",
    "    default_root_dir='output',\n",
    "    log_every_n_steps=1,\n",
    "    check_val_every_n_epoch=1,\n",
    ")"
   ]
  },
  {
   "cell_type": "code",
   "execution_count": null,
   "id": "6aa5a8e1-8796-4d28-979d-c6fb9c63b065",
   "metadata": {
    "id": "6aa5a8e1-8796-4d28-979d-c6fb9c63b065"
   },
   "outputs": [],
   "source": [
    "import torch\n",
    "\n",
    "torch.cuda.empty_cache()\n",
    "\n",
    "free_mem, total_mem = torch.cuda.mem_get_info()\n",
    "print(f\"Free Memory: {free_mem/1024**2} MB\")\n",
    "print(f\"Total Memory: {total_mem/1024**2} MB\")\n",
    "print(f\"Memory Allocated: {torch.cuda.memory_allocated(0)/1024**2} MB\")\n",
    "print(f\"Memory Reserved: {torch.cuda.memory_reserved(0)/1024**2} MB\")\n",
    "print(f\"Max Memory Allocated: {torch.cuda.max_memory_allocated(0)/1024**2} MB\")\n",
    "print(f\"Max Memory Reserved: {torch.cuda.max_memory_reserved(0)/1024**2} MB\")"
   ]
  },
  {
   "cell_type": "code",
   "execution_count": null,
   "id": "Q78BdyVOmaZo",
   "metadata": {
    "id": "Q78BdyVOmaZo",
    "scrolled": true
   },
   "outputs": [],
   "source": [
    "_ = trainer.fit(model=task, datamodule=datamodule)"
   ]
  },
  {
   "cell_type": "code",
   "execution_count": null,
   "id": "2d92341bdd5653bc",
   "metadata": {
    "ExecuteTime": {
     "end_time": "2024-09-20T08:56:02.167413Z",
     "start_time": "2024-09-20T08:55:49.306963Z"
    },
    "id": "2d92341bdd5653bc"
   },
   "outputs": [],
   "source": [
    "res = trainer.test(model=task, datamodule=datamodule) # Check default saved model here"
   ]
  },
  {
   "cell_type": "code",
   "execution_count": null,
   "id": "NFV4cNnoGcQC",
   "metadata": {
    "id": "NFV4cNnoGcQC"
   },
   "outputs": [],
   "source": [
    "# ! zip -r .zip ..."
   ]
  },
  {
   "cell_type": "code",
   "execution_count": null,
   "id": "c24e4b187fcf27e9",
   "metadata": {
    "ExecuteTime": {
     "end_time": "2024-09-20T08:59:56.462141Z",
     "start_time": "2024-09-20T08:59:04.936504Z"
    },
    "id": "c24e4b187fcf27e9"
   },
   "outputs": [],
   "source": [
    "%load_ext tensorboard\n",
    "%tensorboard --logdir output"
   ]
  },
  {
   "cell_type": "markdown",
   "id": "d5fc5fd69d827d7a",
   "metadata": {
    "id": "d5fc5fd69d827d7a"
   },
   "source": [
    "# CLI tool\n",
    "\n",
    "You find an example for SMP models in `configs/burnscars_smp.yaml` that you can run with `terratorch fit -c configs/burnscars_smp.yaml`."
   ]
  },
  {
   "cell_type": "code",
   "execution_count": null,
   "id": "c9e86e3208bf47d1",
   "metadata": {
    "id": "c9e86e3208bf47d1"
   },
   "outputs": [],
   "source": []
  }
 ],
 "metadata": {
  "accelerator": "GPU",
  "colab": {
   "gpuType": "T4",
   "provenance": []
  },
  "kernelspec": {
   "display_name": "conda_s2-cloudcover",
   "language": "python",
   "name": "conda_s2-cloudcover"
  },
  "language_info": {
   "codemirror_mode": {
    "name": "ipython",
    "version": 3
   },
   "file_extension": ".py",
   "mimetype": "text/x-python",
   "name": "python",
   "nbconvert_exporter": "python",
   "pygments_lexer": "ipython3",
   "version": "3.12.9"
  }
 },
 "nbformat": 4,
 "nbformat_minor": 5
}
