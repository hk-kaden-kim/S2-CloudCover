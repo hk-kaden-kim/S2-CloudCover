{
  "cells": [
    {
      "cell_type": "code",
      "execution_count": 37,
      "id": "dca2c445",
      "metadata": {
        "id": "dca2c445"
      },
      "outputs": [
        {
          "name": "stdout",
          "output_type": "stream",
          "text": [
            "The autoreload extension is already loaded. To reload it, use:\n",
            "  %reload_ext autoreload\n"
          ]
        }
      ],
      "source": [
        "%load_ext autoreload\n",
        "%autoreload 2"
      ]
    },
    {
      "cell_type": "code",
      "execution_count": 38,
      "id": "epjPMMeUN_rE",
      "metadata": {
        "id": "epjPMMeUN_rE"
      },
      "outputs": [
        {
          "name": "stderr",
          "output_type": "stream",
          "text": [
            "Seed set to 0\n"
          ]
        },
        {
          "data": {
            "text/plain": [
              "0"
            ]
          },
          "execution_count": 38,
          "metadata": {},
          "output_type": "execute_result"
        }
      ],
      "source": [
        "import warnings\n",
        "warnings.filterwarnings(\"ignore\")\n",
        "\n",
        "import lightning.pytorch as pl\n",
        "pl.seed_everything(0)"
      ]
    },
    {
      "cell_type": "markdown",
      "id": "XPNaTx4JMiRm",
      "metadata": {
        "id": "XPNaTx4JMiRm",
        "jp-MarkdownHeadingCollapsed": true
      },
      "source": [
        "# Set up\n",
        "*   Install libraries\n",
        "*   Load dataset"
      ]
    },
    {
      "cell_type": "code",
      "execution_count": 8,
      "id": "N3PaJgvfrSgx",
      "metadata": {
        "id": "N3PaJgvfrSgx"
      },
      "outputs": [],
      "source": [
        "# ! rm -rf dataset\n",
        "# ! rm -rf library"
      ]
    },
    {
      "cell_type": "code",
      "execution_count": 9,
      "id": "aXJevMCtE75o",
      "metadata": {
        "id": "aXJevMCtE75o"
      },
      "outputs": [],
      "source": [
        "# ! pip install terratorch xarray-spatial"
      ]
    },
    {
      "cell_type": "code",
      "execution_count": 10,
      "id": "nzA8r3BjjcoX",
      "metadata": {
        "id": "nzA8r3BjjcoX"
      },
      "outputs": [],
      "source": [
        "# ! mkdir -p dataset"
      ]
    },
    {
      "cell_type": "code",
      "execution_count": 11,
      "id": "pbQhbb-HSoAu",
      "metadata": {
        "id": "pbQhbb-HSoAu"
      },
      "outputs": [],
      "source": [
        "# ! wget https://huggingface.co/datasets/hk-kaden-kim/Small_S2_CloudCover_Seg/resolve/main/train.zip -P dataset\n",
        "# ! unzip -q dataset/train.zip -d dataset\n",
        "# ! mv dataset/train dataset/public\n",
        "# ! rm dataset/train.zip"
      ]
    },
    {
      "cell_type": "code",
      "execution_count": 12,
      "id": "1SBgdN6mTFnR",
      "metadata": {
        "id": "1SBgdN6mTFnR"
      },
      "outputs": [],
      "source": [
        "# ! wget https://huggingface.co/datasets/hk-kaden-kim/Small_S2_CloudCover_Seg/resolve/main/test.zip -P dataset\n",
        "# ! unzip -q dataset/test.zip -d dataset\n",
        "# ! mv dataset/test dataset/private\n",
        "# ! rm dataset/test.zip"
      ]
    },
    {
      "cell_type": "code",
      "execution_count": 13,
      "id": "YHOPJJY6jaJO",
      "metadata": {
        "id": "YHOPJJY6jaJO"
      },
      "outputs": [],
      "source": [
        "# ! mkdir -p library\n",
        "# ! wget https://github.com/hk-kaden-kim/S2-CloudCover/raw/refs/heads/main/library/__init__.py -P library\n",
        "# ! wget https://github.com/hk-kaden-kim/S2-CloudCover/raw/refs/heads/main/library/analysis.py -P library"
      ]
    },
    {
      "cell_type": "code",
      "execution_count": 14,
      "id": "TlZOwaU9kIJU",
      "metadata": {
        "id": "TlZOwaU9kIJU"
      },
      "outputs": [],
      "source": [
        "# ! mkdir -p library/datasets\n",
        "# ! wget https://github.com/hk-kaden-kim/S2-CloudCover/raw/refs/heads/main/library/datasets/__init__.py -P library/datasets\n",
        "# ! wget https://github.com/hk-kaden-kim/S2-CloudCover/raw/refs/heads/main/library/datasets/sen2cloud.py -P library/datasets"
      ]
    },
    {
      "cell_type": "code",
      "execution_count": 15,
      "id": "G57fKIEgjgpx",
      "metadata": {
        "id": "G57fKIEgjgpx"
      },
      "outputs": [],
      "source": [
        "# ! mkdir -p library/datamodules\n",
        "# ! wget https://github.com/hk-kaden-kim/S2-CloudCover/raw/refs/heads/main/library/datamodules/__init__.py -P library/datamodules\n",
        "# ! wget https://github.com/hk-kaden-kim/S2-CloudCover/raw/refs/heads/main/library/datamodules/sen2cloud.py -P library/datamodules"
      ]
    },
    {
      "cell_type": "code",
      "execution_count": 16,
      "id": "FL-XzotzkD3U",
      "metadata": {
        "id": "FL-XzotzkD3U"
      },
      "outputs": [],
      "source": [
        "# ! rm -rf dataset/__MACOSX"
      ]
    },
    {
      "cell_type": "markdown",
      "id": "c95ef947be616ef8",
      "metadata": {
        "id": "c95ef947be616ef8"
      },
      "source": [
        "# Lightning Trainers"
      ]
    },
    {
      "cell_type": "code",
      "execution_count": 3,
      "id": "9kIGRy3jrY1R",
      "metadata": {
        "id": "9kIGRy3jrY1R"
      },
      "outputs": [
        {
          "data": {
            "text/plain": [
              "(414, 171, 547)"
            ]
          },
          "execution_count": 3,
          "metadata": {},
          "output_type": "execute_result"
        }
      ],
      "source": [
        "from library.datamodules.sen2cloud import Sen2CloudDataModule\n",
        "\n",
        "BATCH_SIZE = 8 # 32\n",
        "\n",
        "datamodule = Sen2CloudDataModule(\n",
        "    data_root = './dataset',\n",
        "    batch_size = BATCH_SIZE,\n",
        "    means = [2672.63818359375, 2678.138671875, 2587.265380859375, 3507.404052734375],\n",
        "    stds = [3047.300537109375, 2805.623779296875, 2705.935791015625, 2409.601318359375],\n",
        ")\n",
        "\n",
        "datamodule.setup(\"fit\")\n",
        "datamodule.setup(\"test\")\n",
        "\n",
        "train_dataset = datamodule.train_dataset\n",
        "val_dataset = datamodule.val_dataset\n",
        "\n",
        "test_dataset = datamodule.test_dataset\n",
        "len(train_dataset), len(val_dataset), len(test_dataset)"
      ]
    },
    {
      "cell_type": "code",
      "execution_count": 42,
      "id": "5d64dedcf582c53f",
      "metadata": {
        "ExecuteTime": {
          "end_time": "2024-09-20T09:30:58.985260Z",
          "start_time": "2024-09-20T09:30:58.475305Z"
        },
        "id": "5d64dedcf582c53f"
      },
      "outputs": [
        {
          "name": "stderr",
          "output_type": "stream",
          "text": [
            "INFO:timm.models._builder:Loading pretrained weights from Hugging Face hub (timm/resnet50.a1_in1k)\n",
            "INFO:timm.models._hub:[timm/resnet50.a1_in1k] Safe alternative available for 'pytorch_model.bin' (as 'model.safetensors'). Loading weights using safetensors.\n",
            "INFO:timm.models._builder:Missing keys (fc.weight, fc.bias) discovered while loading pretrained weights. This is expected if model is being adapted.\n"
          ]
        },
        {
          "name": "stdout",
          "output_type": "stream",
          "text": [
            "[] [64, 256, 512, 1024, 2048] [64, 256, 512, 1024, 2048]\n",
            "[64, 256, 512, 1024, 2048] [512, 256, 128, 64]\n",
            "[2048, 1024, 512, 256]\n",
            "[2048, 512, 256, 128] [1024, 512, 256, 0] [512, 256, 128, 64]\n",
            "x_0_0 2048 1024 512\n",
            "x_0_1 512 1024 256\n",
            "x_1_1 1024 512 512\n",
            "x_0_2 256 768 128\n",
            "x_1_2 512 512 256\n",
            "x_2_2 512 256 256\n"
          ]
        }
      ],
      "source": [
        "from terratorch.tasks import SemanticSegmentationTask\n",
        "\n",
        "LOSS = 'ce'\n",
        "# class_weights = [0.6,0.4]\n",
        "LEARNING_RATE = 1e-3\n",
        "OPTIMIZER = 'AdamW'\n",
        "OPTIMIZER_HPARAMS = {\"weight_decay\": 0.05}\n",
        "\n",
        "model_args={\n",
        "    # Backbone (Encoder)\n",
        "    \"backbone\": \"resnet50\",\n",
        "    \"backbone_kwargs\": {\n",
        "        'pretrained': True,\n",
        "        'in_chans': 3,\n",
        "    },\n",
        "\n",
        "    # Decoder\n",
        "    \"decoder\": \"UnetPlusPlus\",      # Unet UnetPlusPlus\n",
        "    \"decoder_kwargs\": {\n",
        "        'decoder_channels': [512, 256, 128, 64],\n",
        "    },\n",
        "\n",
        "    # Head\n",
        "    \"head_dropout\": 0.1,\n",
        "    \"num_classes\": 2,\n",
        "}\n",
        "\n",
        "# Model\n",
        "task = SemanticSegmentationTask(\n",
        "    model_args=model_args,\n",
        "    model_factory=\"EncoderDecoderFactory\",\n",
        "    loss=LOSS,\n",
        "    # class_weights=class_weights,\n",
        "    lr=LEARNING_RATE,\n",
        "    optimizer=OPTIMIZER,\n",
        "    optimizer_hparams=OPTIMIZER_HPARAMS,\n",
        "    freeze_backbone=True, # True. Only to speed up fine-tuning\n",
        "    freeze_decoder=False,\n",
        "    class_names=['No', 'Cloud'],  # optionally define class names\n",
        "    plot_on_val=0,\n",
        ")"
      ]
    },
    {
      "cell_type": "code",
      "execution_count": null,
      "id": "706bc5b0f5da7c5e",
      "metadata": {
        "ExecuteTime": {
          "end_time": "2024-09-20T09:32:03.414907Z",
          "start_time": "2024-09-20T09:31:03.644418Z"
        },
        "id": "706bc5b0f5da7c5e"
      },
      "outputs": [],
      "source": [
        "from lightning.pytorch import Trainer\n",
        "from lightning.pytorch.callbacks import EarlyStopping, LearningRateMonitor, ModelCheckpoint, RichProgressBar\n",
        "from lightning.pytorch.loggers import TensorBoardLogger\n",
        "\n",
        "EPOCH = 20\n",
        "\n",
        "checkpoint_callback = ModelCheckpoint(mode=\"max\",\n",
        "                                      monitor=\"val/Multiclass_Jaccard_Index\",\n",
        "                                      filename=\"best-{epoch:02d}\",)\n",
        "early_stopping_callback = EarlyStopping(mode=\"min\",\n",
        "                                        monitor=f\"val/loss\",\n",
        "                                        patience=5)\n",
        "logger = TensorBoardLogger(save_dir='output',\n",
        "                           version=f\"E{EPOCH}_B{BATCH_SIZE}_{LOSS}_LR{LEARNING_RATE}\",\n",
        "                           name=f\"{model_args['backbone']}_{model_args['decoder']}\")\n",
        "\n",
        "trainer = Trainer(\n",
        "    devices=1, # Number of GPUs. Interactive mode recommended with 1 device\n",
        "    precision=\"16-mixed\",\n",
        "    callbacks=[\n",
        "      RichProgressBar(),\n",
        "      checkpoint_callback, # Set to save max val/IoU and last model\n",
        "      early_stopping_callback,\n",
        "      LearningRateMonitor(logging_interval=\"epoch\"),\n",
        "      ],\n",
        "    logger=logger,\n",
        "    max_epochs=EPOCH,\n",
        "    default_root_dir='output',\n",
        "    log_every_n_steps=1,\n",
        "    check_val_every_n_epoch=1,\n",
        ")"
      ]
    },
    {
      "cell_type": "code",
      "execution_count": null,
      "id": "6aa5a8e1-8796-4d28-979d-c6fb9c63b065",
      "metadata": {
        "id": "6aa5a8e1-8796-4d28-979d-c6fb9c63b065"
      },
      "outputs": [],
      "source": [
        "import torch\n",
        "\n",
        "torch.cuda.empty_cache()\n",
        "\n",
        "free_mem, total_mem = torch.cuda.mem_get_info()\n",
        "print(f\"Free Memory: {free_mem/1024**2} MB\")\n",
        "print(f\"Total Memory: {total_mem/1024**2} MB\")\n",
        "print(f\"Memory Allocated: {torch.cuda.memory_allocated(0)/1024**2} MB\")\n",
        "print(f\"Memory Reserved: {torch.cuda.memory_reserved(0)/1024**2} MB\")\n",
        "print(f\"Max Memory Allocated: {torch.cuda.max_memory_allocated(0)/1024**2} MB\")\n",
        "print(f\"Max Memory Reserved: {torch.cuda.max_memory_reserved(0)/1024**2} MB\")"
      ]
    },
    {
      "cell_type": "code",
      "execution_count": null,
      "id": "Q78BdyVOmaZo",
      "metadata": {
        "id": "Q78BdyVOmaZo",
        "scrolled": true
      },
      "outputs": [],
      "source": [
        "_ = trainer.fit(model=task, datamodule=datamodule)"
      ]
    },
    {
      "cell_type": "code",
      "execution_count": null,
      "id": "2d92341bdd5653bc",
      "metadata": {
        "ExecuteTime": {
          "end_time": "2024-09-20T08:56:02.167413Z",
          "start_time": "2024-09-20T08:55:49.306963Z"
        },
        "id": "2d92341bdd5653bc"
      },
      "outputs": [],
      "source": [
        "res = trainer.test(model=task, datamodule=datamodule) # Check default saved model here"
      ]
    },
    {
      "cell_type": "code",
      "execution_count": null,
      "id": "NFV4cNnoGcQC",
      "metadata": {
        "id": "NFV4cNnoGcQC"
      },
      "outputs": [],
      "source": [
        "! zip -r output.zip output"
      ]
    },
    {
      "cell_type": "code",
      "execution_count": null,
      "id": "c24e4b187fcf27e9",
      "metadata": {
        "ExecuteTime": {
          "end_time": "2024-09-20T08:59:56.462141Z",
          "start_time": "2024-09-20T08:59:04.936504Z"
        },
        "id": "c24e4b187fcf27e9"
      },
      "outputs": [],
      "source": [
        "%load_ext tensorboard\n",
        "%tensorboard --logdir output"
      ]
    },
    {
      "cell_type": "code",
      "execution_count": null,
      "id": "Yn9UYFfSxB1l",
      "metadata": {
        "id": "Yn9UYFfSxB1l"
      },
      "outputs": [],
      "source": [
        "\"\"\"\n",
        "Backbone : prithvi_eo_v2_300 (Decoder Finetune)\n",
        "Decoder : UNetDecoder\n",
        "Epoch : 20\n",
        "Batch : 8\n",
        "loss : ce\n",
        "lr : 1e-3\n",
        "Trainable params: 20.3 M\n",
        "Non-trainable params: 303 M\n",
        "Total params: 323 M\n",
        "Total estimated model params size (MB): 1.3 K\n",
        "┏━━━━━━━━━━━━━━━━━━━━━━━━━━━━━━━━━━━━━┳━━━━━━━━━━━━━━━━━━━━━━━━━━━━━━━━━━━━━┓\n",
        "┃             Test metric             ┃            DataLoader 0             ┃\n",
        "┡━━━━━━━━━━━━━━━━━━━━━━━━━━━━━━━━━━━━━╇━━━━━━━━━━━━━━━━━━━━━━━━━━━━━━━━━━━━━┩\n",
        "│      test/Multiclass_Accuracy       │          0.890679121017456          │\n",
        "│      test/Multiclass_F1_Score       │         0.8906790018081665          │\n",
        "│    test/Multiclass_Jaccard_Index    │          0.798092246055603          │\n",
        "│ test/Multiclass_Jaccard_Index_Micro │         0.8029047846794128          │\n",
        "│              test/loss              │         0.31213536858558655         │\n",
        "│    test/multiclassaccuracy_Cloud    │         0.8777081370353699          │\n",
        "│     test/multiclassaccuracy_No      │         0.9105421304702759          │\n",
        "│  test/multiclassjaccardindex_Cloud  │         0.8292639851570129          │\n",
        "│   test/multiclassjaccardindex_No    │         0.7669205665588379          │\n",
        "└─────────────────────────────────────┴─────────────────────────────────────┘\n",
        "\n",
        "Backbone : prithvi_eo_v1_100 (Decoder Finetune)\n",
        "Decoder : UNetDecoder\n",
        "Epoch : 20\n",
        "Batch : 8\n",
        "loss : ce\n",
        "lr : 1e-3\n",
        "Trainable params: 15.5 M\n",
        "Non-trainable params: 85.8 M\n",
        "Total params: 101 M\n",
        "Total estimated model params size (MB): 405\n",
        "┏━━━━━━━━━━━━━━━━━━━━━━━━━━━━━━━━━━━━━┳━━━━━━━━━━━━━━━━━━━━━━━━━━━━━━━━━━━━━┓\n",
        "┃             Test metric             ┃            DataLoader 0             ┃\n",
        "┡━━━━━━━━━━━━━━━━━━━━━━━━━━━━━━━━━━━━━╇━━━━━━━━━━━━━━━━━━━━━━━━━━━━━━━━━━━━━┩\n",
        "│      test/Multiclass_Accuracy       │         0.8720716238021851          │\n",
        "│      test/Multiclass_F1_Score       │         0.8720716238021851          │\n",
        "│    test/Multiclass_Jaccard_Index    │         0.7667739987373352          │\n",
        "│ test/Multiclass_Jaccard_Index_Micro │         0.7731622457504272          │\n",
        "│              test/loss              │         0.3706841468811035          │\n",
        "│    test/multiclassaccuracy_Cloud    │         0.8750652074813843          │\n",
        "│     test/multiclassaccuracy_No      │         0.8674874305725098          │\n",
        "│  test/multiclassjaccardindex_Cloud  │         0.8053733110427856          │\n",
        "│   test/multiclassjaccardindex_No    │         0.7281746864318848          │\n",
        "└─────────────────────────────────────┴─────────────────────────────────────┘\n",
        "\n",
        "\"\"\""
      ]
    },
    {
      "cell_type": "markdown",
      "id": "d5fc5fd69d827d7a",
      "metadata": {
        "id": "d5fc5fd69d827d7a"
      },
      "source": [
        "# CLI tool\n",
        "\n",
        "You find an example for SMP models in `configs/burnscars_smp.yaml` that you can run with `terratorch fit -c configs/burnscars_smp.yaml`."
      ]
    },
    {
      "cell_type": "code",
      "execution_count": null,
      "id": "c9e86e3208bf47d1",
      "metadata": {
        "id": "c9e86e3208bf47d1"
      },
      "outputs": [],
      "source": []
    }
  ],
  "metadata": {
    "accelerator": "GPU",
    "colab": {
      "gpuType": "T4",
      "provenance": []
    },
    "kernelspec": {
      "display_name": "Python 3",
      "name": "python3"
    },
    "language_info": {
      "codemirror_mode": {
        "name": "ipython",
        "version": 3
      },
      "file_extension": ".py",
      "mimetype": "text/x-python",
      "name": "python",
      "nbconvert_exporter": "python",
      "pygments_lexer": "ipython3",
      "version": "3.12.9"
    }
  },
  "nbformat": 4,
  "nbformat_minor": 5
}
