{
  "cells": [
    {
      "cell_type": "code",
      "execution_count": 1,
      "id": "dca2c445",
      "metadata": {
        "id": "dca2c445"
      },
      "outputs": [],
      "source": [
        "%load_ext autoreload\n",
        "%autoreload 2"
      ]
    },
    {
      "cell_type": "code",
      "execution_count": 2,
      "id": "epjPMMeUN_rE",
      "metadata": {
        "id": "epjPMMeUN_rE"
      },
      "outputs": [
        {
          "name": "stderr",
          "output_type": "stream",
          "text": [
            "Seed set to 0\n"
          ]
        },
        {
          "data": {
            "text/plain": [
              "0"
            ]
          },
          "execution_count": 2,
          "metadata": {},
          "output_type": "execute_result"
        }
      ],
      "source": [
        "import warnings\n",
        "warnings.filterwarnings(\"ignore\")\n",
        "\n",
        "import lightning.pytorch as pl\n",
        "pl.seed_everything(0)"
      ]
    },
    {
      "cell_type": "markdown",
      "id": "XPNaTx4JMiRm",
      "metadata": {
        "id": "XPNaTx4JMiRm",
        "jp-MarkdownHeadingCollapsed": true
      },
      "source": [
        "# Set up\n",
        "*   Install libraries\n",
        "*   Load dataset"
      ]
    },
    {
      "cell_type": "code",
      "execution_count": null,
      "id": "N3PaJgvfrSgx",
      "metadata": {
        "id": "N3PaJgvfrSgx"
      },
      "outputs": [],
      "source": [
        "# ! rm -rf dataset\n",
        "# ! rm -rf library"
      ]
    },
    {
      "cell_type": "code",
      "execution_count": null,
      "id": "aXJevMCtE75o",
      "metadata": {
        "id": "aXJevMCtE75o"
      },
      "outputs": [],
      "source": [
        "# ! pip install terratorch xarray-spatial"
      ]
    },
    {
      "cell_type": "code",
      "execution_count": null,
      "id": "nzA8r3BjjcoX",
      "metadata": {
        "id": "nzA8r3BjjcoX"
      },
      "outputs": [],
      "source": [
        "# ! mkdir -p dataset"
      ]
    },
    {
      "cell_type": "code",
      "execution_count": null,
      "id": "pbQhbb-HSoAu",
      "metadata": {
        "id": "pbQhbb-HSoAu"
      },
      "outputs": [],
      "source": [
        "# ! wget https://huggingface.co/datasets/hk-kaden-kim/Small_S2_CloudCover_Seg/resolve/main/train.zip -P dataset\n",
        "# ! unzip -q dataset/train.zip -d dataset\n",
        "# ! mv dataset/train dataset/public\n",
        "# ! rm dataset/train.zip"
      ]
    },
    {
      "cell_type": "code",
      "execution_count": null,
      "id": "1SBgdN6mTFnR",
      "metadata": {
        "id": "1SBgdN6mTFnR"
      },
      "outputs": [],
      "source": [
        "# ! wget https://huggingface.co/datasets/hk-kaden-kim/Small_S2_CloudCover_Seg/resolve/main/test.zip -P dataset\n",
        "# ! unzip -q dataset/test.zip -d dataset\n",
        "# ! mv dataset/test dataset/private\n",
        "# ! rm dataset/test.zip"
      ]
    },
    {
      "cell_type": "code",
      "execution_count": null,
      "id": "YHOPJJY6jaJO",
      "metadata": {
        "id": "YHOPJJY6jaJO"
      },
      "outputs": [],
      "source": [
        "# ! mkdir -p library\n",
        "# ! wget https://github.com/hk-kaden-kim/S2-CloudCover/raw/refs/heads/main/library/__init__.py -P library\n",
        "# ! wget https://github.com/hk-kaden-kim/S2-CloudCover/raw/refs/heads/main/library/analysis.py -P library"
      ]
    },
    {
      "cell_type": "code",
      "execution_count": null,
      "id": "TlZOwaU9kIJU",
      "metadata": {
        "id": "TlZOwaU9kIJU"
      },
      "outputs": [],
      "source": [
        "# ! mkdir -p library/datasets\n",
        "# ! wget https://github.com/hk-kaden-kim/S2-CloudCover/raw/refs/heads/main/library/datasets/__init__.py -P library/datasets\n",
        "# ! wget https://github.com/hk-kaden-kim/S2-CloudCover/raw/refs/heads/main/library/datasets/sen2cloud.py -P library/datasets"
      ]
    },
    {
      "cell_type": "code",
      "execution_count": null,
      "id": "G57fKIEgjgpx",
      "metadata": {
        "id": "G57fKIEgjgpx"
      },
      "outputs": [],
      "source": [
        "# ! mkdir -p library/datamodules\n",
        "# ! wget https://github.com/hk-kaden-kim/S2-CloudCover/raw/refs/heads/main/library/datamodules/__init__.py -P library/datamodules\n",
        "# ! wget https://github.com/hk-kaden-kim/S2-CloudCover/raw/refs/heads/main/library/datamodules/sen2cloud.py -P library/datamodules"
      ]
    },
    {
      "cell_type": "code",
      "execution_count": null,
      "id": "FL-XzotzkD3U",
      "metadata": {
        "id": "FL-XzotzkD3U"
      },
      "outputs": [],
      "source": [
        "# ! rm -rf dataset/__MACOSX"
      ]
    },
    {
      "cell_type": "markdown",
      "id": "c95ef947be616ef8",
      "metadata": {
        "id": "c95ef947be616ef8"
      },
      "source": [
        "# Lightning Trainers"
      ]
    },
    {
      "cell_type": "code",
      "execution_count": 3,
      "id": "9kIGRy3jrY1R",
      "metadata": {
        "id": "9kIGRy3jrY1R"
      },
      "outputs": [
        {
          "name": "stderr",
          "output_type": "stream",
          "text": [
            "INFO:numexpr.utils:NumExpr defaulting to 8 threads.\n",
            "INFO:albumentations.check_version:A new version of Albumentations is available: 2.0.5 (you have 1.4.10). Upgrade using: pip install --upgrade albumentations\n"
          ]
        },
        {
          "name": "stdout",
          "output_type": "stream",
          "text": [
            "wxc_downscaling not installed\n",
            "wxc_downscaling not installed\n"
          ]
        },
        {
          "data": {
            "text/plain": [
              "(414, 171, 547)"
            ]
          },
          "execution_count": 3,
          "metadata": {},
          "output_type": "execute_result"
        }
      ],
      "source": [
        "from library.datamodules.sen2cloud import Sen2CloudDataModule\n",
        "\n",
        "BATCH_SIZE = 8 # 32\n",
        "\n",
        "datamodule = Sen2CloudDataModule(\n",
        "    data_root = './dataset',\n",
        "    batch_size = BATCH_SIZE,\n",
        "    means = [2631.64794921875, 2636.205078125, 2545.404052734375, 3444.451416015625],\n",
        "    stds = [3057.195068359375, 2818.6640625, 2720.16796875, 2450.236328125],\n",
        ")\n",
        "\n",
        "datamodule.setup(\"fit\")\n",
        "datamodule.setup(\"test\")\n",
        "\n",
        "train_dataset = datamodule.train_dataset\n",
        "val_dataset = datamodule.val_dataset\n",
        "\n",
        "test_dataset = datamodule.test_dataset\n",
        "len(train_dataset), len(val_dataset), len(test_dataset)"
      ]
    },
    {
      "cell_type": "code",
      "execution_count": 11,
      "id": "5d64dedcf582c53f",
      "metadata": {
        "ExecuteTime": {
          "end_time": "2024-09-20T09:30:58.985260Z",
          "start_time": "2024-09-20T09:30:58.475305Z"
        },
        "id": "5d64dedcf582c53f"
      },
      "outputs": [
        {
          "ename": "AssertionError",
          "evalue": "registry.py",
          "output_type": "error",
          "traceback": [
            "\u001b[0;31m---------------------------------------------------------------------------\u001b[0m",
            "\u001b[0;31mAssertionError\u001b[0m                            Traceback (most recent call last)",
            "Cell \u001b[0;32mIn[11], line 41\u001b[0m\n\u001b[1;32m      9\u001b[0m model_args\u001b[38;5;241m=\u001b[39m{\n\u001b[1;32m     10\u001b[0m     \u001b[38;5;66;03m# Backbone (Encoder)\u001b[39;00m\n\u001b[1;32m     11\u001b[0m     \u001b[38;5;124m\"\u001b[39m\u001b[38;5;124mbackbone\u001b[39m\u001b[38;5;124m\"\u001b[39m: \u001b[38;5;124m\"\u001b[39m\u001b[38;5;124mprithvi_eo_v2_300\u001b[39m\u001b[38;5;124m\"\u001b[39m, \u001b[38;5;66;03m# Model can be either prithvi_eo_v1_100, prithvi_eo_v2_300, prithvi_eo_v2_300_tl, prithvi_eo_v2_600, prithvi_eo_v2_600_tl\u001b[39;00m\n\u001b[0;32m   (...)\u001b[0m\n\u001b[1;32m     37\u001b[0m     \u001b[38;5;124m\"\u001b[39m\u001b[38;5;124mnum_classes\u001b[39m\u001b[38;5;124m\"\u001b[39m: \u001b[38;5;241m2\u001b[39m,\n\u001b[1;32m     38\u001b[0m }\n\u001b[1;32m     40\u001b[0m \u001b[38;5;66;03m# Model\u001b[39;00m\n\u001b[0;32m---> 41\u001b[0m task \u001b[38;5;241m=\u001b[39m SemanticSegmentationTask(\n\u001b[1;32m     42\u001b[0m     model_args\u001b[38;5;241m=\u001b[39mmodel_args,\n\u001b[1;32m     43\u001b[0m     model_factory\u001b[38;5;241m=\u001b[39m\u001b[38;5;124m\"\u001b[39m\u001b[38;5;124mEncoderDecoderFactory\u001b[39m\u001b[38;5;124m\"\u001b[39m,\n\u001b[1;32m     44\u001b[0m     loss\u001b[38;5;241m=\u001b[39mLOSS,\n\u001b[1;32m     45\u001b[0m     \u001b[38;5;66;03m# class_weights=class_weights,\u001b[39;00m\n\u001b[1;32m     46\u001b[0m     lr\u001b[38;5;241m=\u001b[39mLEARNING_RATE,\n\u001b[1;32m     47\u001b[0m     optimizer\u001b[38;5;241m=\u001b[39mOPTIMIZER,\n\u001b[1;32m     48\u001b[0m     optimizer_hparams\u001b[38;5;241m=\u001b[39mOPTIMIZER_HPARAMS,\n\u001b[1;32m     49\u001b[0m     freeze_backbone\u001b[38;5;241m=\u001b[39m\u001b[38;5;28;01mTrue\u001b[39;00m, \u001b[38;5;66;03m# True. Only to speed up fine-tuning\u001b[39;00m\n\u001b[1;32m     50\u001b[0m     freeze_decoder\u001b[38;5;241m=\u001b[39m\u001b[38;5;28;01mFalse\u001b[39;00m,\n\u001b[1;32m     51\u001b[0m     class_names\u001b[38;5;241m=\u001b[39m[\u001b[38;5;124m'\u001b[39m\u001b[38;5;124mNo\u001b[39m\u001b[38;5;124m'\u001b[39m, \u001b[38;5;124m'\u001b[39m\u001b[38;5;124mCloud\u001b[39m\u001b[38;5;124m'\u001b[39m],  \u001b[38;5;66;03m# optionally define class names\u001b[39;00m\n\u001b[1;32m     52\u001b[0m     plot_on_val\u001b[38;5;241m=\u001b[39m\u001b[38;5;241m0\u001b[39m,\n\u001b[1;32m     53\u001b[0m )\n",
            "File \u001b[0;32m~/miniconda3/envs/s2-cloudcover-terratorch/lib/python3.11/site-packages/terratorch/tasks/segmentation_tasks.py:110\u001b[0m, in \u001b[0;36mSemanticSegmentationTask.__init__\u001b[0;34m(self, model_args, model_factory, loss, aux_heads, aux_loss, class_weights, ignore_index, lr, optimizer, optimizer_hparams, scheduler, scheduler_hparams, freeze_backbone, freeze_decoder, plot_on_val, class_names, tiled_inference_parameters, test_dataloaders_names)\u001b[0m\n\u001b[1;32m    108\u001b[0m \u001b[38;5;28mself\u001b[39m\u001b[38;5;241m.\u001b[39maux_heads \u001b[38;5;241m=\u001b[39m aux_heads\n\u001b[1;32m    109\u001b[0m \u001b[38;5;28mself\u001b[39m\u001b[38;5;241m.\u001b[39mmodel_factory \u001b[38;5;241m=\u001b[39m MODEL_FACTORY_REGISTRY\u001b[38;5;241m.\u001b[39mbuild(model_factory)\n\u001b[0;32m--> 110\u001b[0m \u001b[38;5;28msuper\u001b[39m()\u001b[38;5;241m.\u001b[39m\u001b[38;5;21m__init__\u001b[39m()\n\u001b[1;32m    111\u001b[0m \u001b[38;5;28mself\u001b[39m\u001b[38;5;241m.\u001b[39mtrain_loss_handler \u001b[38;5;241m=\u001b[39m LossHandler(\u001b[38;5;28mself\u001b[39m\u001b[38;5;241m.\u001b[39mtrain_metrics\u001b[38;5;241m.\u001b[39mprefix)\n\u001b[1;32m    112\u001b[0m \u001b[38;5;28mself\u001b[39m\u001b[38;5;241m.\u001b[39mtest_loss_handler: \u001b[38;5;28mlist\u001b[39m[LossHandler] \u001b[38;5;241m=\u001b[39m []\n",
            "File \u001b[0;32m~/miniconda3/envs/s2-cloudcover-terratorch/lib/python3.11/site-packages/torchgeo/trainers/base.py:39\u001b[0m, in \u001b[0;36mBaseTask.__init__\u001b[0;34m(self, ignore)\u001b[0m\n\u001b[1;32m     37\u001b[0m \u001b[38;5;28msuper\u001b[39m()\u001b[38;5;241m.\u001b[39m\u001b[38;5;21m__init__\u001b[39m()\n\u001b[1;32m     38\u001b[0m \u001b[38;5;28mself\u001b[39m\u001b[38;5;241m.\u001b[39msave_hyperparameters(ignore\u001b[38;5;241m=\u001b[39mignore)\n\u001b[0;32m---> 39\u001b[0m \u001b[38;5;28mself\u001b[39m\u001b[38;5;241m.\u001b[39mconfigure_models()\n\u001b[1;32m     40\u001b[0m \u001b[38;5;28mself\u001b[39m\u001b[38;5;241m.\u001b[39mconfigure_losses()\n\u001b[1;32m     41\u001b[0m \u001b[38;5;28mself\u001b[39m\u001b[38;5;241m.\u001b[39mconfigure_metrics()\n",
            "File \u001b[0;32m~/miniconda3/envs/s2-cloudcover-terratorch/lib/python3.11/site-packages/terratorch/tasks/segmentation_tasks.py:124\u001b[0m, in \u001b[0;36mSemanticSegmentationTask.configure_models\u001b[0;34m(self)\u001b[0m\n\u001b[1;32m    123\u001b[0m \u001b[38;5;28;01mdef\u001b[39;00m \u001b[38;5;21mconfigure_models\u001b[39m(\u001b[38;5;28mself\u001b[39m) \u001b[38;5;241m-\u001b[39m\u001b[38;5;241m>\u001b[39m \u001b[38;5;28;01mNone\u001b[39;00m:\n\u001b[0;32m--> 124\u001b[0m     \u001b[38;5;28mself\u001b[39m\u001b[38;5;241m.\u001b[39mmodel: Model \u001b[38;5;241m=\u001b[39m \u001b[38;5;28mself\u001b[39m\u001b[38;5;241m.\u001b[39mmodel_factory\u001b[38;5;241m.\u001b[39mbuild_model(\n\u001b[1;32m    125\u001b[0m         \u001b[38;5;124m\"\u001b[39m\u001b[38;5;124msegmentation\u001b[39m\u001b[38;5;124m\"\u001b[39m, aux_decoders\u001b[38;5;241m=\u001b[39m\u001b[38;5;28mself\u001b[39m\u001b[38;5;241m.\u001b[39maux_heads, \u001b[38;5;241m*\u001b[39m\u001b[38;5;241m*\u001b[39m\u001b[38;5;28mself\u001b[39m\u001b[38;5;241m.\u001b[39mhparams[\u001b[38;5;124m\"\u001b[39m\u001b[38;5;124mmodel_args\u001b[39m\u001b[38;5;124m\"\u001b[39m]\n\u001b[1;32m    126\u001b[0m     )\n\u001b[1;32m    127\u001b[0m     \u001b[38;5;28;01mif\u001b[39;00m \u001b[38;5;28mself\u001b[39m\u001b[38;5;241m.\u001b[39mhparams[\u001b[38;5;124m\"\u001b[39m\u001b[38;5;124mfreeze_backbone\u001b[39m\u001b[38;5;124m\"\u001b[39m]:\n\u001b[1;32m    128\u001b[0m         \u001b[38;5;28;01mif\u001b[39;00m \u001b[38;5;28mself\u001b[39m\u001b[38;5;241m.\u001b[39mhparams\u001b[38;5;241m.\u001b[39mget(\u001b[38;5;124m\"\u001b[39m\u001b[38;5;124mpeft_config\u001b[39m\u001b[38;5;124m\"\u001b[39m, \u001b[38;5;28;01mNone\u001b[39;00m) \u001b[38;5;129;01mis\u001b[39;00m \u001b[38;5;129;01mnot\u001b[39;00m \u001b[38;5;28;01mNone\u001b[39;00m:\n",
            "File \u001b[0;32m~/miniconda3/envs/s2-cloudcover-terratorch/lib/python3.11/site-packages/terratorch/models/encoder_decoder_factory.py:129\u001b[0m, in \u001b[0;36mEncoderDecoderFactory.build_model\u001b[0;34m(self, task, backbone, decoder, num_classes, necks, aux_decoders, rescale, peft_config, **kwargs)\u001b[0m\n\u001b[1;32m    126\u001b[0m     \u001b[38;5;28;01mraise\u001b[39;00m \u001b[38;5;167;01mNotImplementedError\u001b[39;00m(msg)\n\u001b[1;32m    128\u001b[0m backbone_kwargs, kwargs \u001b[38;5;241m=\u001b[39m extract_prefix_keys(kwargs, \u001b[38;5;124m\"\u001b[39m\u001b[38;5;124mbackbone_\u001b[39m\u001b[38;5;124m\"\u001b[39m)\n\u001b[0;32m--> 129\u001b[0m backbone \u001b[38;5;241m=\u001b[39m _get_backbone(backbone, \u001b[38;5;241m*\u001b[39m\u001b[38;5;241m*\u001b[39mbackbone_kwargs)\n\u001b[1;32m    131\u001b[0m \u001b[38;5;28;01mif\u001b[39;00m peft_config \u001b[38;5;129;01mis\u001b[39;00m \u001b[38;5;129;01mnot\u001b[39;00m \u001b[38;5;28;01mNone\u001b[39;00m:\n\u001b[1;32m    132\u001b[0m     \u001b[38;5;28;01mif\u001b[39;00m \u001b[38;5;129;01mnot\u001b[39;00m backbone_kwargs\u001b[38;5;241m.\u001b[39mget(\u001b[38;5;124m\"\u001b[39m\u001b[38;5;124mpretrained\u001b[39m\u001b[38;5;124m\"\u001b[39m, \u001b[38;5;28;01mFalse\u001b[39;00m):\n",
            "File \u001b[0;32m~/miniconda3/envs/s2-cloudcover-terratorch/lib/python3.11/site-packages/terratorch/models/encoder_decoder_factory.py:29\u001b[0m, in \u001b[0;36m_get_backbone\u001b[0;34m(backbone, **backbone_kwargs)\u001b[0m\n\u001b[1;32m     27\u001b[0m \u001b[38;5;28;01mif\u001b[39;00m \u001b[38;5;28misinstance\u001b[39m(backbone, nn\u001b[38;5;241m.\u001b[39mModule):\n\u001b[1;32m     28\u001b[0m     \u001b[38;5;28;01mreturn\u001b[39;00m backbone\n\u001b[0;32m---> 29\u001b[0m \u001b[38;5;28;01mreturn\u001b[39;00m BACKBONE_REGISTRY\u001b[38;5;241m.\u001b[39mbuild(backbone, \u001b[38;5;241m*\u001b[39m\u001b[38;5;241m*\u001b[39mbackbone_kwargs)\n",
            "File \u001b[0;32m~/miniconda3/envs/s2-cloudcover-terratorch/lib/python3.11/site-packages/terratorch/registry/registry.py:52\u001b[0m, in \u001b[0;36mMultiSourceRegistry.build\u001b[0;34m(self, name, *constructor_args, **constructor_kwargs)\u001b[0m\n\u001b[1;32m     51\u001b[0m \u001b[38;5;28;01mdef\u001b[39;00m \u001b[38;5;21mbuild\u001b[39m(\u001b[38;5;28mself\u001b[39m, name: \u001b[38;5;28mstr\u001b[39m, \u001b[38;5;241m*\u001b[39mconstructor_args, \u001b[38;5;241m*\u001b[39m\u001b[38;5;241m*\u001b[39mconstructor_kwargs):\n\u001b[0;32m---> 52\u001b[0m     parsed_prefix \u001b[38;5;241m=\u001b[39m \u001b[38;5;28mself\u001b[39m\u001b[38;5;241m.\u001b[39m_parse_prefix(name)\n\u001b[1;32m     53\u001b[0m     \u001b[38;5;28;01mif\u001b[39;00m parsed_prefix:\n\u001b[1;32m     54\u001b[0m         prefix, name_without_prefix \u001b[38;5;241m=\u001b[39m parsed_prefix\n",
            "\u001b[0;31mAssertionError\u001b[0m: registry.py"
          ]
        }
      ],
      "source": [
        "from terratorch.tasks import SemanticSegmentationTask\n",
        "\n",
        "LOSS = 'ce'\n",
        "# class_weights = [0.6,0.4]\n",
        "LEARNING_RATE = 1e-3\n",
        "OPTIMIZER = 'AdamW'\n",
        "OPTIMIZER_HPARAMS = {\"weight_decay\": 0.05}\n",
        "\n",
        "model_args={\n",
        "    # Backbone (Encoder)\n",
        "    \"backbone\": \"prithvi_eo_v2_300\", # Model can be either prithvi_eo_v1_100, prithvi_eo_v2_300, prithvi_eo_v2_300_tl, prithvi_eo_v2_600, prithvi_eo_v2_600_tl\n",
        "    \"backbone_pretrained\": True,\n",
        "    # \"backbone_num_frames\": 1, # 1 is the default value\n",
        "    \"backbone_bands\": [\"BLUE\", \"GREEN\", \"RED\", \"NIR_NARROW\"],\n",
        "    \"backbone_img_size\": 512,\n",
        "\n",
        "    # Necks\n",
        "    \"necks\": [\n",
        "        {\n",
        "            \"name\": \"SelectIndices\",\n",
        "            \"indices\": [2, 5, 8, 11] # indices for prithvi_eo_v1_100\n",
        "            # \"indices\": [5, 11, 17, 23] # indices for prithvi_eo_v2_300\n",
        "            # \"indices\": [7, 15, 23, 31] # indices for prithvi_eo_v2_600\n",
        "        },\n",
        "        {\"name\": \"ReshapeTokensToImage\",},\n",
        "        {\"name\": \"LearnedInterpolateToPyramidal\"}\n",
        "    ],\n",
        "\n",
        "    # Decoder\n",
        "    # \"decoder\": \"UNetDecoder\",\n",
        "    # \"decoder_channels\": [512, 256, 128, 64],\n",
        "    \"decoder\": \"UperNetDecoder\",\n",
        "    \"decoder_channels\": 256,\n",
        "\n",
        "    # Head\n",
        "    \"head_dropout\": 0.1,\n",
        "    \"num_classes\": 2,\n",
        "}\n",
        "\n",
        "# Model\n",
        "task = SemanticSegmentationTask(\n",
        "    model_args=model_args,\n",
        "    model_factory=\"EncoderDecoderFactory\",\n",
        "    loss=LOSS,\n",
        "    # class_weights=class_weights,\n",
        "    lr=LEARNING_RATE,\n",
        "    optimizer=OPTIMIZER,\n",
        "    optimizer_hparams=OPTIMIZER_HPARAMS,\n",
        "    freeze_backbone=True, # True. Only to speed up fine-tuning\n",
        "    freeze_decoder=False,\n",
        "    class_names=['No', 'Cloud'],  # optionally define class names\n",
        "    plot_on_val=0,\n",
        ")"
      ]
    },
    {
      "cell_type": "code",
      "execution_count": 5,
      "id": "706bc5b0f5da7c5e",
      "metadata": {
        "ExecuteTime": {
          "end_time": "2024-09-20T09:32:03.414907Z",
          "start_time": "2024-09-20T09:31:03.644418Z"
        },
        "id": "706bc5b0f5da7c5e"
      },
      "outputs": [
        {
          "name": "stderr",
          "output_type": "stream",
          "text": [
            "Using bfloat16 Automatic Mixed Precision (AMP)\n",
            "GPU available: False, used: False\n",
            "TPU available: False, using: 0 TPU cores\n",
            "HPU available: False, using: 0 HPUs\n"
          ]
        }
      ],
      "source": [
        "from lightning.pytorch import Trainer\n",
        "from lightning.pytorch.callbacks import EarlyStopping, LearningRateMonitor, ModelCheckpoint, RichProgressBar\n",
        "from lightning.pytorch.loggers import TensorBoardLogger\n",
        "\n",
        "EPOCH = 20\n",
        "\n",
        "checkpoint_callback = ModelCheckpoint(mode=\"max\",\n",
        "                                      monitor=\"val/Multiclass_Jaccard_Index\",\n",
        "                                      filename=\"best-{epoch:02d}\",)\n",
        "early_stopping_callback = EarlyStopping(mode=\"min\",\n",
        "                                        monitor=f\"val/loss\",\n",
        "                                        patience=5)\n",
        "logger = TensorBoardLogger(save_dir='output',\n",
        "                           version=f\"E{EPOCH}_B{BATCH_SIZE}_{LOSS}_LR{LEARNING_RATE}\",\n",
        "                           name=f\"{model_args['backbone']}_{model_args['decoder']}\")\n",
        "\n",
        "trainer = Trainer(\n",
        "    devices=1, # Number of GPUs. Interactive mode recommended with 1 device\n",
        "    precision=\"16-mixed\",\n",
        "    callbacks=[\n",
        "      RichProgressBar(),\n",
        "      checkpoint_callback, # Set to save max val/IoU and last model\n",
        "      early_stopping_callback,\n",
        "      LearningRateMonitor(logging_interval=\"epoch\"),\n",
        "      ],\n",
        "    logger=logger,\n",
        "    max_epochs=EPOCH,\n",
        "    default_root_dir='output',\n",
        "    log_every_n_steps=1,\n",
        "    check_val_every_n_epoch=1,\n",
        ")"
      ]
    },
    {
      "cell_type": "code",
      "execution_count": null,
      "id": "6aa5a8e1-8796-4d28-979d-c6fb9c63b065",
      "metadata": {
        "id": "6aa5a8e1-8796-4d28-979d-c6fb9c63b065"
      },
      "outputs": [],
      "source": [
        "import torch\n",
        "\n",
        "torch.cuda.empty_cache()\n",
        "\n",
        "free_mem, total_mem = torch.cuda.mem_get_info()\n",
        "print(f\"Free Memory: {free_mem/1024**2} MB\")\n",
        "print(f\"Total Memory: {total_mem/1024**2} MB\")\n",
        "print(f\"Memory Allocated: {torch.cuda.memory_allocated(0)/1024**2} MB\")\n",
        "print(f\"Memory Reserved: {torch.cuda.memory_reserved(0)/1024**2} MB\")\n",
        "print(f\"Max Memory Allocated: {torch.cuda.max_memory_allocated(0)/1024**2} MB\")\n",
        "print(f\"Max Memory Reserved: {torch.cuda.max_memory_reserved(0)/1024**2} MB\")"
      ]
    },
    {
      "cell_type": "code",
      "execution_count": null,
      "id": "Q78BdyVOmaZo",
      "metadata": {
        "id": "Q78BdyVOmaZo",
        "scrolled": true
      },
      "outputs": [],
      "source": [
        "_ = trainer.fit(model=task, datamodule=datamodule)"
      ]
    },
    {
      "cell_type": "code",
      "execution_count": null,
      "id": "2d92341bdd5653bc",
      "metadata": {
        "ExecuteTime": {
          "end_time": "2024-09-20T08:56:02.167413Z",
          "start_time": "2024-09-20T08:55:49.306963Z"
        },
        "id": "2d92341bdd5653bc"
      },
      "outputs": [],
      "source": [
        "res = trainer.test(model=task, datamodule=datamodule) # Check default saved model here"
      ]
    },
    {
      "cell_type": "code",
      "execution_count": null,
      "id": "NFV4cNnoGcQC",
      "metadata": {
        "id": "NFV4cNnoGcQC"
      },
      "outputs": [],
      "source": [
        "! zip -r output.zip output"
      ]
    },
    {
      "cell_type": "code",
      "execution_count": null,
      "id": "c24e4b187fcf27e9",
      "metadata": {
        "ExecuteTime": {
          "end_time": "2024-09-20T08:59:56.462141Z",
          "start_time": "2024-09-20T08:59:04.936504Z"
        },
        "id": "c24e4b187fcf27e9"
      },
      "outputs": [],
      "source": [
        "%load_ext tensorboard\n",
        "%tensorboard --logdir output"
      ]
    },
    {
      "cell_type": "code",
      "execution_count": null,
      "id": "Yn9UYFfSxB1l",
      "metadata": {
        "id": "Yn9UYFfSxB1l"
      },
      "outputs": [],
      "source": [
        "\"\"\"\n",
        "Backbone : prithvi_eo_v2_300 (Decoder Finetune)\n",
        "Decoder : UNetDecoder\n",
        "Epoch : 20\n",
        "Batch : 8\n",
        "loss : ce\n",
        "lr : 1e-3\n",
        "Trainable params: 20.3 M\n",
        "Non-trainable params: 303 M\n",
        "Total params: 323 M\n",
        "Total estimated model params size (MB): 1.3 K\n",
        "┏━━━━━━━━━━━━━━━━━━━━━━━━━━━━━━━━━━━━━┳━━━━━━━━━━━━━━━━━━━━━━━━━━━━━━━━━━━━━┓\n",
        "┃             Test metric             ┃            DataLoader 0             ┃\n",
        "┡━━━━━━━━━━━━━━━━━━━━━━━━━━━━━━━━━━━━━╇━━━━━━━━━━━━━━━━━━━━━━━━━━━━━━━━━━━━━┩\n",
        "│      test/Multiclass_Accuracy       │          0.890679121017456          │\n",
        "│      test/Multiclass_F1_Score       │         0.8906790018081665          │\n",
        "│    test/Multiclass_Jaccard_Index    │          0.798092246055603          │\n",
        "│ test/Multiclass_Jaccard_Index_Micro │         0.8029047846794128          │\n",
        "│              test/loss              │         0.31213536858558655         │\n",
        "│    test/multiclassaccuracy_Cloud    │         0.8777081370353699          │\n",
        "│     test/multiclassaccuracy_No      │         0.9105421304702759          │\n",
        "│  test/multiclassjaccardindex_Cloud  │         0.8292639851570129          │\n",
        "│   test/multiclassjaccardindex_No    │         0.7669205665588379          │\n",
        "└─────────────────────────────────────┴─────────────────────────────────────┘\n",
        "\n",
        "Backbone : prithvi_eo_v1_100 (Decoder Finetune)\n",
        "Decoder : UNetDecoder\n",
        "Epoch : 20\n",
        "Batch : 8\n",
        "loss : ce\n",
        "lr : 1e-3\n",
        "Trainable params: 15.5 M\n",
        "Non-trainable params: 85.8 M\n",
        "Total params: 101 M\n",
        "Total estimated model params size (MB): 405\n",
        "┏━━━━━━━━━━━━━━━━━━━━━━━━━━━━━━━━━━━━━┳━━━━━━━━━━━━━━━━━━━━━━━━━━━━━━━━━━━━━┓\n",
        "┃             Test metric             ┃            DataLoader 0             ┃\n",
        "┡━━━━━━━━━━━━━━━━━━━━━━━━━━━━━━━━━━━━━╇━━━━━━━━━━━━━━━━━━━━━━━━━━━━━━━━━━━━━┩\n",
        "│      test/Multiclass_Accuracy       │         0.8720716238021851          │\n",
        "│      test/Multiclass_F1_Score       │         0.8720716238021851          │\n",
        "│    test/Multiclass_Jaccard_Index    │         0.7667739987373352          │\n",
        "│ test/Multiclass_Jaccard_Index_Micro │         0.7731622457504272          │\n",
        "│              test/loss              │         0.3706841468811035          │\n",
        "│    test/multiclassaccuracy_Cloud    │         0.8750652074813843          │\n",
        "│     test/multiclassaccuracy_No      │         0.8674874305725098          │\n",
        "│  test/multiclassjaccardindex_Cloud  │         0.8053733110427856          │\n",
        "│   test/multiclassjaccardindex_No    │         0.7281746864318848          │\n",
        "└─────────────────────────────────────┴─────────────────────────────────────┘\n",
        "\n",
        "\"\"\""
      ]
    },
    {
      "cell_type": "markdown",
      "id": "d5fc5fd69d827d7a",
      "metadata": {
        "id": "d5fc5fd69d827d7a"
      },
      "source": [
        "# CLI tool\n",
        "\n",
        "You find an example for SMP models in `configs/burnscars_smp.yaml` that you can run with `terratorch fit -c configs/burnscars_smp.yaml`."
      ]
    },
    {
      "cell_type": "code",
      "execution_count": null,
      "id": "c9e86e3208bf47d1",
      "metadata": {
        "id": "c9e86e3208bf47d1"
      },
      "outputs": [],
      "source": []
    }
  ],
  "metadata": {
    "accelerator": "GPU",
    "colab": {
      "gpuType": "T4",
      "provenance": []
    },
    "kernelspec": {
      "display_name": "Python 3",
      "name": "python3"
    },
    "language_info": {
      "codemirror_mode": {
        "name": "ipython",
        "version": 3
      },
      "file_extension": ".py",
      "mimetype": "text/x-python",
      "name": "python",
      "nbconvert_exporter": "python",
      "pygments_lexer": "ipython3",
      "version": "3.11.11"
    }
  },
  "nbformat": 4,
  "nbformat_minor": 5
}
